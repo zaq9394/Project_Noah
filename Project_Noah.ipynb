{
 "cells": [
  {
   "cell_type": "code",
   "execution_count": 1,
   "id": "581b9345",
   "metadata": {},
   "outputs": [],
   "source": [
    "#dealing with the data. cleaning the NaN values, duplicates and outliers.\n",
    "#create a model to predict the price of second-handed cars\n",
    "#create a model to predict that people with different budgets will buy which kind of car\n",
    "#create plot to find out the relation between price and each factor."
   ]
  },
  {
   "cell_type": "code",
   "execution_count": 145,
   "id": "c6ff587a",
   "metadata": {},
   "outputs": [
    {
     "name": "stdout",
     "output_type": "stream",
     "text": [
      "········\n"
     ]
    }
   ],
   "source": [
    "import pandas as pd\n",
    "import seaborn as sns\n",
    "import matplotlib.pyplot as plt\n",
    "import numpy as np\n",
    "import re\n",
    "from datetime import datetime\n",
    "import pymysql\n",
    "from sqlalchemy import create_engine\n",
    "import getpass  \n",
    "password = getpass.getpass()"
   ]
  },
  {
   "cell_type": "code",
   "execution_count": 147,
   "id": "733bf3d2",
   "metadata": {},
   "outputs": [],
   "source": [
    "connection_string = 'mysql+pymysql://root:' + password + '@localhost/autoscout'\n",
    "engine = create_engine(connection_string)\n",
    "\n"
   ]
  },
  {
   "cell_type": "code",
   "execution_count": 148,
   "id": "772cd6db",
   "metadata": {},
   "outputs": [],
   "source": [
    "# importing the data"
   ]
  },
  {
   "cell_type": "code",
   "execution_count": 149,
   "id": "ba14b2da",
   "metadata": {},
   "outputs": [],
   "source": [
    "data=pd.read_csv('autoscout24-germany-dataset.csv')"
   ]
  },
  {
   "cell_type": "code",
   "execution_count": null,
   "id": "20f7242a",
   "metadata": {},
   "outputs": [],
   "source": []
  },
  {
   "cell_type": "code",
   "execution_count": 150,
   "id": "f93e896d",
   "metadata": {},
   "outputs": [
    {
     "data": {
      "text/html": [
       "<div>\n",
       "<style scoped>\n",
       "    .dataframe tbody tr th:only-of-type {\n",
       "        vertical-align: middle;\n",
       "    }\n",
       "\n",
       "    .dataframe tbody tr th {\n",
       "        vertical-align: top;\n",
       "    }\n",
       "\n",
       "    .dataframe thead th {\n",
       "        text-align: right;\n",
       "    }\n",
       "</style>\n",
       "<table border=\"1\" class=\"dataframe\">\n",
       "  <thead>\n",
       "    <tr style=\"text-align: right;\">\n",
       "      <th></th>\n",
       "      <th>mileage</th>\n",
       "      <th>make</th>\n",
       "      <th>model</th>\n",
       "      <th>fuel</th>\n",
       "      <th>gear</th>\n",
       "      <th>offerType</th>\n",
       "      <th>price</th>\n",
       "      <th>hp</th>\n",
       "      <th>year</th>\n",
       "    </tr>\n",
       "  </thead>\n",
       "  <tbody>\n",
       "    <tr>\n",
       "      <th>0</th>\n",
       "      <td>235000</td>\n",
       "      <td>BMW</td>\n",
       "      <td>316</td>\n",
       "      <td>Diesel</td>\n",
       "      <td>Manual</td>\n",
       "      <td>Used</td>\n",
       "      <td>6800</td>\n",
       "      <td>116.0</td>\n",
       "      <td>2011</td>\n",
       "    </tr>\n",
       "    <tr>\n",
       "      <th>1</th>\n",
       "      <td>92800</td>\n",
       "      <td>Volkswagen</td>\n",
       "      <td>Golf</td>\n",
       "      <td>Gasoline</td>\n",
       "      <td>Manual</td>\n",
       "      <td>Used</td>\n",
       "      <td>6877</td>\n",
       "      <td>122.0</td>\n",
       "      <td>2011</td>\n",
       "    </tr>\n",
       "    <tr>\n",
       "      <th>2</th>\n",
       "      <td>149300</td>\n",
       "      <td>SEAT</td>\n",
       "      <td>Exeo</td>\n",
       "      <td>Gasoline</td>\n",
       "      <td>Manual</td>\n",
       "      <td>Used</td>\n",
       "      <td>6900</td>\n",
       "      <td>160.0</td>\n",
       "      <td>2011</td>\n",
       "    </tr>\n",
       "    <tr>\n",
       "      <th>3</th>\n",
       "      <td>96200</td>\n",
       "      <td>Renault</td>\n",
       "      <td>Megane</td>\n",
       "      <td>Gasoline</td>\n",
       "      <td>Manual</td>\n",
       "      <td>Used</td>\n",
       "      <td>6950</td>\n",
       "      <td>110.0</td>\n",
       "      <td>2011</td>\n",
       "    </tr>\n",
       "    <tr>\n",
       "      <th>4</th>\n",
       "      <td>156000</td>\n",
       "      <td>Peugeot</td>\n",
       "      <td>308</td>\n",
       "      <td>Gasoline</td>\n",
       "      <td>Manual</td>\n",
       "      <td>Used</td>\n",
       "      <td>6950</td>\n",
       "      <td>156.0</td>\n",
       "      <td>2011</td>\n",
       "    </tr>\n",
       "  </tbody>\n",
       "</table>\n",
       "</div>"
      ],
      "text/plain": [
       "   mileage        make   model      fuel    gear offerType  price     hp  year\n",
       "0   235000         BMW     316    Diesel  Manual      Used   6800  116.0  2011\n",
       "1    92800  Volkswagen    Golf  Gasoline  Manual      Used   6877  122.0  2011\n",
       "2   149300        SEAT    Exeo  Gasoline  Manual      Used   6900  160.0  2011\n",
       "3    96200     Renault  Megane  Gasoline  Manual      Used   6950  110.0  2011\n",
       "4   156000     Peugeot     308  Gasoline  Manual      Used   6950  156.0  2011"
      ]
     },
     "execution_count": 150,
     "metadata": {},
     "output_type": "execute_result"
    }
   ],
   "source": [
    "data.head()"
   ]
  },
  {
   "cell_type": "code",
   "execution_count": 151,
   "id": "582892e9",
   "metadata": {},
   "outputs": [
    {
     "data": {
      "text/plain": [
       "(46405, 9)"
      ]
     },
     "execution_count": 151,
     "metadata": {},
     "output_type": "execute_result"
    }
   ],
   "source": [
    "data.shape"
   ]
  },
  {
   "cell_type": "code",
   "execution_count": 152,
   "id": "81ecb8ea",
   "metadata": {},
   "outputs": [
    {
     "data": {
      "text/html": [
       "<div>\n",
       "<style scoped>\n",
       "    .dataframe tbody tr th:only-of-type {\n",
       "        vertical-align: middle;\n",
       "    }\n",
       "\n",
       "    .dataframe tbody tr th {\n",
       "        vertical-align: top;\n",
       "    }\n",
       "\n",
       "    .dataframe thead th {\n",
       "        text-align: right;\n",
       "    }\n",
       "</style>\n",
       "<table border=\"1\" class=\"dataframe\">\n",
       "  <thead>\n",
       "    <tr style=\"text-align: right;\">\n",
       "      <th></th>\n",
       "      <th>mileage</th>\n",
       "      <th>price</th>\n",
       "      <th>hp</th>\n",
       "      <th>year</th>\n",
       "    </tr>\n",
       "  </thead>\n",
       "  <tbody>\n",
       "    <tr>\n",
       "      <th>count</th>\n",
       "      <td>4.640500e+04</td>\n",
       "      <td>4.640500e+04</td>\n",
       "      <td>46376.000000</td>\n",
       "      <td>46405.000000</td>\n",
       "    </tr>\n",
       "    <tr>\n",
       "      <th>mean</th>\n",
       "      <td>7.117786e+04</td>\n",
       "      <td>1.657234e+04</td>\n",
       "      <td>132.990987</td>\n",
       "      <td>2016.012951</td>\n",
       "    </tr>\n",
       "    <tr>\n",
       "      <th>std</th>\n",
       "      <td>6.262531e+04</td>\n",
       "      <td>1.930470e+04</td>\n",
       "      <td>75.449284</td>\n",
       "      <td>3.155214</td>\n",
       "    </tr>\n",
       "    <tr>\n",
       "      <th>min</th>\n",
       "      <td>0.000000e+00</td>\n",
       "      <td>1.100000e+03</td>\n",
       "      <td>1.000000</td>\n",
       "      <td>2011.000000</td>\n",
       "    </tr>\n",
       "    <tr>\n",
       "      <th>25%</th>\n",
       "      <td>1.980000e+04</td>\n",
       "      <td>7.490000e+03</td>\n",
       "      <td>86.000000</td>\n",
       "      <td>2013.000000</td>\n",
       "    </tr>\n",
       "    <tr>\n",
       "      <th>50%</th>\n",
       "      <td>6.000000e+04</td>\n",
       "      <td>1.099900e+04</td>\n",
       "      <td>116.000000</td>\n",
       "      <td>2016.000000</td>\n",
       "    </tr>\n",
       "    <tr>\n",
       "      <th>75%</th>\n",
       "      <td>1.050000e+05</td>\n",
       "      <td>1.949000e+04</td>\n",
       "      <td>150.000000</td>\n",
       "      <td>2019.000000</td>\n",
       "    </tr>\n",
       "    <tr>\n",
       "      <th>max</th>\n",
       "      <td>1.111111e+06</td>\n",
       "      <td>1.199900e+06</td>\n",
       "      <td>850.000000</td>\n",
       "      <td>2021.000000</td>\n",
       "    </tr>\n",
       "  </tbody>\n",
       "</table>\n",
       "</div>"
      ],
      "text/plain": [
       "            mileage         price            hp          year\n",
       "count  4.640500e+04  4.640500e+04  46376.000000  46405.000000\n",
       "mean   7.117786e+04  1.657234e+04    132.990987   2016.012951\n",
       "std    6.262531e+04  1.930470e+04     75.449284      3.155214\n",
       "min    0.000000e+00  1.100000e+03      1.000000   2011.000000\n",
       "25%    1.980000e+04  7.490000e+03     86.000000   2013.000000\n",
       "50%    6.000000e+04  1.099900e+04    116.000000   2016.000000\n",
       "75%    1.050000e+05  1.949000e+04    150.000000   2019.000000\n",
       "max    1.111111e+06  1.199900e+06    850.000000   2021.000000"
      ]
     },
     "execution_count": 152,
     "metadata": {},
     "output_type": "execute_result"
    }
   ],
   "source": [
    "data.describe()"
   ]
  },
  {
   "cell_type": "code",
   "execution_count": 153,
   "id": "ebb2e43e",
   "metadata": {},
   "outputs": [
    {
     "name": "stdout",
     "output_type": "stream",
     "text": [
      "<class 'pandas.core.frame.DataFrame'>\n",
      "RangeIndex: 46405 entries, 0 to 46404\n",
      "Data columns (total 9 columns):\n",
      " #   Column     Non-Null Count  Dtype  \n",
      "---  ------     --------------  -----  \n",
      " 0   mileage    46405 non-null  int64  \n",
      " 1   make       46405 non-null  object \n",
      " 2   model      46262 non-null  object \n",
      " 3   fuel       46405 non-null  object \n",
      " 4   gear       46223 non-null  object \n",
      " 5   offerType  46405 non-null  object \n",
      " 6   price      46405 non-null  int64  \n",
      " 7   hp         46376 non-null  float64\n",
      " 8   year       46405 non-null  int64  \n",
      "dtypes: float64(1), int64(3), object(5)\n",
      "memory usage: 3.2+ MB\n"
     ]
    }
   ],
   "source": [
    "data.info()"
   ]
  },
  {
   "cell_type": "code",
   "execution_count": 154,
   "id": "0d3b02b6",
   "metadata": {},
   "outputs": [
    {
     "data": {
      "text/plain": [
       "mileage        int64\n",
       "make          object\n",
       "model         object\n",
       "fuel          object\n",
       "gear          object\n",
       "offerType     object\n",
       "price          int64\n",
       "hp           float64\n",
       "year           int64\n",
       "dtype: object"
      ]
     },
     "execution_count": 154,
     "metadata": {},
     "output_type": "execute_result"
    }
   ],
   "source": [
    "data.dtypes"
   ]
  },
  {
   "cell_type": "code",
   "execution_count": 155,
   "id": "a884185d",
   "metadata": {},
   "outputs": [],
   "source": [
    "# renaming the header"
   ]
  },
  {
   "cell_type": "code",
   "execution_count": 156,
   "id": "8ae4f4f3",
   "metadata": {},
   "outputs": [],
   "source": [
    "data=data.rename(columns={'make':'manufacturer','offerType':'offer_type'})"
   ]
  },
  {
   "cell_type": "code",
   "execution_count": 157,
   "id": "30768a6f",
   "metadata": {},
   "outputs": [],
   "source": [
    "#selecting all the second-handed cars"
   ]
  },
  {
   "cell_type": "code",
   "execution_count": 158,
   "id": "be8b6d3a",
   "metadata": {},
   "outputs": [
    {
     "data": {
      "text/plain": [
       "Used              40122\n",
       "Pre-registered     2780\n",
       "Demonstration      2368\n",
       "Employee's car     1122\n",
       "New                  13\n",
       "Name: offer_type, dtype: int64"
      ]
     },
     "execution_count": 158,
     "metadata": {},
     "output_type": "execute_result"
    }
   ],
   "source": [
    "data['offer_type'].value_counts()"
   ]
  },
  {
   "cell_type": "code",
   "execution_count": 159,
   "id": "d32e5e35",
   "metadata": {},
   "outputs": [],
   "source": [
    "data=data[(data['offer_type']!='New')]"
   ]
  },
  {
   "cell_type": "code",
   "execution_count": null,
   "id": "e2404ca7",
   "metadata": {},
   "outputs": [],
   "source": []
  },
  {
   "cell_type": "code",
   "execution_count": 160,
   "id": "691c7b2e",
   "metadata": {},
   "outputs": [
    {
     "data": {
      "text/plain": [
       "(46392, 9)"
      ]
     },
     "execution_count": 160,
     "metadata": {},
     "output_type": "execute_result"
    }
   ],
   "source": [
    "data.shape"
   ]
  },
  {
   "cell_type": "code",
   "execution_count": 161,
   "id": "8c565398",
   "metadata": {},
   "outputs": [],
   "source": [
    "# checking the NaN value"
   ]
  },
  {
   "cell_type": "code",
   "execution_count": 162,
   "id": "c199b58a",
   "metadata": {},
   "outputs": [
    {
     "data": {
      "text/plain": [
       "mileage           0\n",
       "manufacturer      0\n",
       "model           143\n",
       "fuel              0\n",
       "gear            182\n",
       "offer_type        0\n",
       "price             0\n",
       "hp               29\n",
       "year              0\n",
       "dtype: int64"
      ]
     },
     "execution_count": 162,
     "metadata": {},
     "output_type": "execute_result"
    }
   ],
   "source": [
    "data.isna().sum()"
   ]
  },
  {
   "cell_type": "code",
   "execution_count": 163,
   "id": "4ebedb72",
   "metadata": {},
   "outputs": [],
   "source": [
    "#clearing the NaN value"
   ]
  },
  {
   "cell_type": "code",
   "execution_count": 164,
   "id": "90261a27",
   "metadata": {},
   "outputs": [],
   "source": [
    "data=data.drop('model',axis=1)"
   ]
  },
  {
   "cell_type": "code",
   "execution_count": 165,
   "id": "7996fecf",
   "metadata": {},
   "outputs": [
    {
     "data": {
      "text/html": [
       "<div>\n",
       "<style scoped>\n",
       "    .dataframe tbody tr th:only-of-type {\n",
       "        vertical-align: middle;\n",
       "    }\n",
       "\n",
       "    .dataframe tbody tr th {\n",
       "        vertical-align: top;\n",
       "    }\n",
       "\n",
       "    .dataframe thead th {\n",
       "        text-align: right;\n",
       "    }\n",
       "</style>\n",
       "<table border=\"1\" class=\"dataframe\">\n",
       "  <thead>\n",
       "    <tr style=\"text-align: right;\">\n",
       "      <th></th>\n",
       "      <th>mileage</th>\n",
       "      <th>manufacturer</th>\n",
       "      <th>fuel</th>\n",
       "      <th>gear</th>\n",
       "      <th>offer_type</th>\n",
       "      <th>price</th>\n",
       "      <th>hp</th>\n",
       "      <th>year</th>\n",
       "    </tr>\n",
       "  </thead>\n",
       "  <tbody>\n",
       "    <tr>\n",
       "      <th>0</th>\n",
       "      <td>235000</td>\n",
       "      <td>BMW</td>\n",
       "      <td>Diesel</td>\n",
       "      <td>Manual</td>\n",
       "      <td>Used</td>\n",
       "      <td>6800</td>\n",
       "      <td>116.0</td>\n",
       "      <td>2011</td>\n",
       "    </tr>\n",
       "    <tr>\n",
       "      <th>1</th>\n",
       "      <td>92800</td>\n",
       "      <td>Volkswagen</td>\n",
       "      <td>Gasoline</td>\n",
       "      <td>Manual</td>\n",
       "      <td>Used</td>\n",
       "      <td>6877</td>\n",
       "      <td>122.0</td>\n",
       "      <td>2011</td>\n",
       "    </tr>\n",
       "    <tr>\n",
       "      <th>2</th>\n",
       "      <td>149300</td>\n",
       "      <td>SEAT</td>\n",
       "      <td>Gasoline</td>\n",
       "      <td>Manual</td>\n",
       "      <td>Used</td>\n",
       "      <td>6900</td>\n",
       "      <td>160.0</td>\n",
       "      <td>2011</td>\n",
       "    </tr>\n",
       "    <tr>\n",
       "      <th>3</th>\n",
       "      <td>96200</td>\n",
       "      <td>Renault</td>\n",
       "      <td>Gasoline</td>\n",
       "      <td>Manual</td>\n",
       "      <td>Used</td>\n",
       "      <td>6950</td>\n",
       "      <td>110.0</td>\n",
       "      <td>2011</td>\n",
       "    </tr>\n",
       "    <tr>\n",
       "      <th>4</th>\n",
       "      <td>156000</td>\n",
       "      <td>Peugeot</td>\n",
       "      <td>Gasoline</td>\n",
       "      <td>Manual</td>\n",
       "      <td>Used</td>\n",
       "      <td>6950</td>\n",
       "      <td>156.0</td>\n",
       "      <td>2011</td>\n",
       "    </tr>\n",
       "  </tbody>\n",
       "</table>\n",
       "</div>"
      ],
      "text/plain": [
       "   mileage manufacturer      fuel    gear offer_type  price     hp  year\n",
       "0   235000          BMW    Diesel  Manual       Used   6800  116.0  2011\n",
       "1    92800   Volkswagen  Gasoline  Manual       Used   6877  122.0  2011\n",
       "2   149300         SEAT  Gasoline  Manual       Used   6900  160.0  2011\n",
       "3    96200      Renault  Gasoline  Manual       Used   6950  110.0  2011\n",
       "4   156000      Peugeot  Gasoline  Manual       Used   6950  156.0  2011"
      ]
     },
     "execution_count": 165,
     "metadata": {},
     "output_type": "execute_result"
    }
   ],
   "source": [
    "data.head()"
   ]
  },
  {
   "cell_type": "code",
   "execution_count": 166,
   "id": "f1003b4e",
   "metadata": {},
   "outputs": [],
   "source": [
    "# The data has more than 40000 rows and there are only 200 NaN values in this case. So i decide to drop them all."
   ]
  },
  {
   "cell_type": "code",
   "execution_count": 167,
   "id": "2f48914f",
   "metadata": {},
   "outputs": [],
   "source": [
    "data=data.dropna()"
   ]
  },
  {
   "cell_type": "code",
   "execution_count": 168,
   "id": "c44bfd7b",
   "metadata": {},
   "outputs": [],
   "source": [
    "#clearing the duplicate"
   ]
  },
  {
   "cell_type": "code",
   "execution_count": 169,
   "id": "264ed784",
   "metadata": {},
   "outputs": [],
   "source": [
    "data=data.drop_duplicates(keep='first')"
   ]
  },
  {
   "cell_type": "code",
   "execution_count": 170,
   "id": "3ec4b913",
   "metadata": {},
   "outputs": [],
   "source": [
    "# creating a new column named age_of_car. It shows the number of years since the car was produced. \n",
    "# Because this data is collected in 2021 so i use 2021 instead of datetime.now().year."
   ]
  },
  {
   "cell_type": "code",
   "execution_count": 171,
   "id": "a0af897d",
   "metadata": {},
   "outputs": [],
   "source": [
    "data['age_of_car']=2021-data['year']"
   ]
  },
  {
   "cell_type": "code",
   "execution_count": 172,
   "id": "8a25e374",
   "metadata": {},
   "outputs": [
    {
     "data": {
      "text/html": [
       "<div>\n",
       "<style scoped>\n",
       "    .dataframe tbody tr th:only-of-type {\n",
       "        vertical-align: middle;\n",
       "    }\n",
       "\n",
       "    .dataframe tbody tr th {\n",
       "        vertical-align: top;\n",
       "    }\n",
       "\n",
       "    .dataframe thead th {\n",
       "        text-align: right;\n",
       "    }\n",
       "</style>\n",
       "<table border=\"1\" class=\"dataframe\">\n",
       "  <thead>\n",
       "    <tr style=\"text-align: right;\">\n",
       "      <th></th>\n",
       "      <th>mileage</th>\n",
       "      <th>manufacturer</th>\n",
       "      <th>fuel</th>\n",
       "      <th>gear</th>\n",
       "      <th>offer_type</th>\n",
       "      <th>price</th>\n",
       "      <th>hp</th>\n",
       "      <th>year</th>\n",
       "      <th>age_of_car</th>\n",
       "    </tr>\n",
       "  </thead>\n",
       "  <tbody>\n",
       "    <tr>\n",
       "      <th>0</th>\n",
       "      <td>235000</td>\n",
       "      <td>BMW</td>\n",
       "      <td>Diesel</td>\n",
       "      <td>Manual</td>\n",
       "      <td>Used</td>\n",
       "      <td>6800</td>\n",
       "      <td>116.0</td>\n",
       "      <td>2011</td>\n",
       "      <td>10</td>\n",
       "    </tr>\n",
       "    <tr>\n",
       "      <th>1</th>\n",
       "      <td>92800</td>\n",
       "      <td>Volkswagen</td>\n",
       "      <td>Gasoline</td>\n",
       "      <td>Manual</td>\n",
       "      <td>Used</td>\n",
       "      <td>6877</td>\n",
       "      <td>122.0</td>\n",
       "      <td>2011</td>\n",
       "      <td>10</td>\n",
       "    </tr>\n",
       "    <tr>\n",
       "      <th>2</th>\n",
       "      <td>149300</td>\n",
       "      <td>SEAT</td>\n",
       "      <td>Gasoline</td>\n",
       "      <td>Manual</td>\n",
       "      <td>Used</td>\n",
       "      <td>6900</td>\n",
       "      <td>160.0</td>\n",
       "      <td>2011</td>\n",
       "      <td>10</td>\n",
       "    </tr>\n",
       "    <tr>\n",
       "      <th>3</th>\n",
       "      <td>96200</td>\n",
       "      <td>Renault</td>\n",
       "      <td>Gasoline</td>\n",
       "      <td>Manual</td>\n",
       "      <td>Used</td>\n",
       "      <td>6950</td>\n",
       "      <td>110.0</td>\n",
       "      <td>2011</td>\n",
       "      <td>10</td>\n",
       "    </tr>\n",
       "    <tr>\n",
       "      <th>4</th>\n",
       "      <td>156000</td>\n",
       "      <td>Peugeot</td>\n",
       "      <td>Gasoline</td>\n",
       "      <td>Manual</td>\n",
       "      <td>Used</td>\n",
       "      <td>6950</td>\n",
       "      <td>156.0</td>\n",
       "      <td>2011</td>\n",
       "      <td>10</td>\n",
       "    </tr>\n",
       "  </tbody>\n",
       "</table>\n",
       "</div>"
      ],
      "text/plain": [
       "   mileage manufacturer      fuel    gear offer_type  price     hp  year  \\\n",
       "0   235000          BMW    Diesel  Manual       Used   6800  116.0  2011   \n",
       "1    92800   Volkswagen  Gasoline  Manual       Used   6877  122.0  2011   \n",
       "2   149300         SEAT  Gasoline  Manual       Used   6900  160.0  2011   \n",
       "3    96200      Renault  Gasoline  Manual       Used   6950  110.0  2011   \n",
       "4   156000      Peugeot  Gasoline  Manual       Used   6950  156.0  2011   \n",
       "\n",
       "   age_of_car  \n",
       "0          10  \n",
       "1          10  \n",
       "2          10  \n",
       "3          10  \n",
       "4          10  "
      ]
     },
     "execution_count": 172,
     "metadata": {},
     "output_type": "execute_result"
    }
   ],
   "source": [
    "data.head()"
   ]
  },
  {
   "cell_type": "code",
   "execution_count": null,
   "id": "1b87e7b7",
   "metadata": {
    "scrolled": true
   },
   "outputs": [],
   "source": []
  },
  {
   "cell_type": "code",
   "execution_count": 173,
   "id": "94936270",
   "metadata": {},
   "outputs": [],
   "source": [
    "#creating another new column named place_of_origin to display which country these manufacturer belong to."
   ]
  },
  {
   "cell_type": "code",
   "execution_count": 174,
   "id": "275a66d4",
   "metadata": {},
   "outputs": [
    {
     "data": {
      "text/plain": [
       "array(['BMW', 'Volkswagen', 'SEAT', 'Renault', 'Peugeot', 'Toyota',\n",
       "       'Opel', 'Mazda', 'Ford', 'Mercedes-Benz', 'Chevrolet', 'Audi',\n",
       "       'Fiat', 'Kia', 'Dacia', 'MINI', 'Hyundai', 'Skoda', 'Citroen',\n",
       "       'Infiniti', 'Suzuki', 'SsangYong', 'smart', 'Cupra', 'Volvo',\n",
       "       'Jaguar', 'Porsche', 'Nissan', 'Honda', 'Mitsubishi', 'Others',\n",
       "       'Lexus', 'Jeep', 'Maserati', 'Bentley', 'Land', 'Alfa', 'Subaru',\n",
       "       'Dodge', 'Microcar', 'Lamborghini', 'Baic', 'Lada', 'Tesla',\n",
       "       'Chrysler', '9ff', 'McLaren', 'Aston', 'Rolls-Royce', 'Lancia',\n",
       "       'Abarth', 'DS', 'Daihatsu', 'Ligier', 'Ferrari', 'Caravans-Wohnm',\n",
       "       'Aixam', 'Alpine', 'Zhidou', 'Morgan', 'Maybach', 'RAM', 'Iveco',\n",
       "       'Alpina', 'Polestar', 'Brilliance', 'Piaggio', 'FISKER',\n",
       "       'Cadillac', 'Isuzu', 'Corvette', 'DFSK', 'Estrima'], dtype=object)"
      ]
     },
     "execution_count": 174,
     "metadata": {},
     "output_type": "execute_result"
    }
   ],
   "source": [
    "data['manufacturer'].unique()"
   ]
  },
  {
   "cell_type": "code",
   "execution_count": 175,
   "id": "50792f6d",
   "metadata": {},
   "outputs": [],
   "source": [
    "Germany=['BMW','Volkswagen','Opel','Mercedes-Benz','Audi','MINI','smart','Porsche','Bentley','Land','9ff']\n",
    "Europe=['SEAT','Renault','Peugeot','Fiat','Dacia','Skoda','Citroen','Cupra','Volvo','Jaguar','Maserati','Alfa','Microcar','Lamborghini','Lada','McLaren','Aston','Rolls-Royce','Lancia']\n",
    "Japan=['Toyota','Mazda','Infiniti','Suzuki','Nissan','Honda','Mitsubishi','Lexus','Subaru']\n",
    "America=['Ford','Chevrolet','Jeep','Dodge','Tesla','Chrysler']\n",
    "Other=['Kia','Hyundai','SsangYong','Others','Baic','Abarth', 'DS', 'Daihatsu', 'Ligier', 'Ferrari', 'Caravans-Wohnm',\n",
    "       'Aixam', 'Alpine', 'Zhidou', 'Morgan', 'Maybach', 'RAM', 'Iveco',\n",
    "      'Alpina', 'Polestar', 'Brilliance', 'Piaggio', 'FISKER',\n",
    "       'Cadillac', 'Isuzu', 'Corvette', 'DFSK', 'Estrima']"
   ]
  },
  {
   "cell_type": "code",
   "execution_count": 176,
   "id": "f35eb465",
   "metadata": {},
   "outputs": [],
   "source": [
    "def classification(x):\n",
    "    if x in Germany:\n",
    "        y='Germany'\n",
    "    elif x in Europe:\n",
    "        y='Europe_others'\n",
    "    elif x in Japan:\n",
    "        y='Japan'\n",
    "    elif x in America:\n",
    "        y='America'\n",
    "    else:\n",
    "        y='Others'\n",
    "    return y"
   ]
  },
  {
   "cell_type": "code",
   "execution_count": 177,
   "id": "dd2e7177",
   "metadata": {},
   "outputs": [],
   "source": [
    "data['place_of_origin']=data['manufacturer'].apply(classification)"
   ]
  },
  {
   "cell_type": "code",
   "execution_count": 179,
   "id": "0d9eb276",
   "metadata": {},
   "outputs": [
    {
     "data": {
      "text/plain": [
       "43997"
      ]
     },
     "execution_count": 179,
     "metadata": {},
     "output_type": "execute_result"
    }
   ],
   "source": [
    "data.to_sql(\"data_auto\", engine, if_exists='fail', index_label=None, chunksize=None, dtype=None,\n",
    "             method=None)"
   ]
  },
  {
   "cell_type": "code",
   "execution_count": 38,
   "id": "d683ed46",
   "metadata": {},
   "outputs": [
    {
     "data": {
      "text/plain": [
       "Germany          20223\n",
       "Europe_others    12662\n",
       "America           4650\n",
       "Japan             3578\n",
       "Others            2884\n",
       "Name: place_of_origin, dtype: int64"
      ]
     },
     "execution_count": 38,
     "metadata": {},
     "output_type": "execute_result"
    }
   ],
   "source": [
    "data['place_of_origin'].value_counts()"
   ]
  },
  {
   "cell_type": "code",
   "execution_count": 39,
   "id": "1de40c0c",
   "metadata": {},
   "outputs": [],
   "source": [
    "data['place_of_origin']=np.where(data['manufacturer'].isin(['BMW','Volkswagen','Opel','Mercedes-Benz','Audi','MINI','smart','Porsche','Bentley','Land','9ff']),data['place_of_origin'],'others')"
   ]
  },
  {
   "cell_type": "code",
   "execution_count": 40,
   "id": "e84ec75b",
   "metadata": {},
   "outputs": [
    {
     "data": {
      "text/plain": [
       "others     23774\n",
       "Germany    20223\n",
       "Name: place_of_origin, dtype: int64"
      ]
     },
     "execution_count": 40,
     "metadata": {},
     "output_type": "execute_result"
    }
   ],
   "source": [
    "data['place_of_origin'].value_counts()"
   ]
  },
  {
   "cell_type": "code",
   "execution_count": 41,
   "id": "5fc36583",
   "metadata": {},
   "outputs": [
    {
     "data": {
      "text/html": [
       "<div>\n",
       "<style scoped>\n",
       "    .dataframe tbody tr th:only-of-type {\n",
       "        vertical-align: middle;\n",
       "    }\n",
       "\n",
       "    .dataframe tbody tr th {\n",
       "        vertical-align: top;\n",
       "    }\n",
       "\n",
       "    .dataframe thead th {\n",
       "        text-align: right;\n",
       "    }\n",
       "</style>\n",
       "<table border=\"1\" class=\"dataframe\">\n",
       "  <thead>\n",
       "    <tr style=\"text-align: right;\">\n",
       "      <th></th>\n",
       "      <th>mileage</th>\n",
       "      <th>manufacturer</th>\n",
       "      <th>fuel</th>\n",
       "      <th>gear</th>\n",
       "      <th>offer_type</th>\n",
       "      <th>price</th>\n",
       "      <th>hp</th>\n",
       "      <th>year</th>\n",
       "      <th>age_of_car</th>\n",
       "      <th>place_of_origin</th>\n",
       "    </tr>\n",
       "  </thead>\n",
       "  <tbody>\n",
       "    <tr>\n",
       "      <th>0</th>\n",
       "      <td>235000</td>\n",
       "      <td>BMW</td>\n",
       "      <td>Diesel</td>\n",
       "      <td>Manual</td>\n",
       "      <td>Used</td>\n",
       "      <td>6800</td>\n",
       "      <td>116.0</td>\n",
       "      <td>2011</td>\n",
       "      <td>10</td>\n",
       "      <td>Germany</td>\n",
       "    </tr>\n",
       "    <tr>\n",
       "      <th>1</th>\n",
       "      <td>92800</td>\n",
       "      <td>Volkswagen</td>\n",
       "      <td>Gasoline</td>\n",
       "      <td>Manual</td>\n",
       "      <td>Used</td>\n",
       "      <td>6877</td>\n",
       "      <td>122.0</td>\n",
       "      <td>2011</td>\n",
       "      <td>10</td>\n",
       "      <td>Germany</td>\n",
       "    </tr>\n",
       "    <tr>\n",
       "      <th>2</th>\n",
       "      <td>149300</td>\n",
       "      <td>SEAT</td>\n",
       "      <td>Gasoline</td>\n",
       "      <td>Manual</td>\n",
       "      <td>Used</td>\n",
       "      <td>6900</td>\n",
       "      <td>160.0</td>\n",
       "      <td>2011</td>\n",
       "      <td>10</td>\n",
       "      <td>others</td>\n",
       "    </tr>\n",
       "    <tr>\n",
       "      <th>3</th>\n",
       "      <td>96200</td>\n",
       "      <td>Renault</td>\n",
       "      <td>Gasoline</td>\n",
       "      <td>Manual</td>\n",
       "      <td>Used</td>\n",
       "      <td>6950</td>\n",
       "      <td>110.0</td>\n",
       "      <td>2011</td>\n",
       "      <td>10</td>\n",
       "      <td>others</td>\n",
       "    </tr>\n",
       "    <tr>\n",
       "      <th>4</th>\n",
       "      <td>156000</td>\n",
       "      <td>Peugeot</td>\n",
       "      <td>Gasoline</td>\n",
       "      <td>Manual</td>\n",
       "      <td>Used</td>\n",
       "      <td>6950</td>\n",
       "      <td>156.0</td>\n",
       "      <td>2011</td>\n",
       "      <td>10</td>\n",
       "      <td>others</td>\n",
       "    </tr>\n",
       "  </tbody>\n",
       "</table>\n",
       "</div>"
      ],
      "text/plain": [
       "   mileage manufacturer      fuel    gear offer_type  price     hp  year  \\\n",
       "0   235000          BMW    Diesel  Manual       Used   6800  116.0  2011   \n",
       "1    92800   Volkswagen  Gasoline  Manual       Used   6877  122.0  2011   \n",
       "2   149300         SEAT  Gasoline  Manual       Used   6900  160.0  2011   \n",
       "3    96200      Renault  Gasoline  Manual       Used   6950  110.0  2011   \n",
       "4   156000      Peugeot  Gasoline  Manual       Used   6950  156.0  2011   \n",
       "\n",
       "   age_of_car place_of_origin  \n",
       "0          10         Germany  \n",
       "1          10         Germany  \n",
       "2          10          others  \n",
       "3          10          others  \n",
       "4          10          others  "
      ]
     },
     "execution_count": 41,
     "metadata": {},
     "output_type": "execute_result"
    }
   ],
   "source": [
    "data.head()"
   ]
  },
  {
   "cell_type": "code",
   "execution_count": 42,
   "id": "4fbeed3c",
   "metadata": {},
   "outputs": [],
   "source": [
    "# checking if there are any outliers"
   ]
  },
  {
   "cell_type": "code",
   "execution_count": 43,
   "id": "0e7dc8c1",
   "metadata": {},
   "outputs": [],
   "source": [
    "data_num=data.select_dtypes(np.number)"
   ]
  },
  {
   "cell_type": "code",
   "execution_count": 44,
   "id": "21347b63",
   "metadata": {},
   "outputs": [],
   "source": [
    "def plot_outliers(x):\n",
    "    for i in x.columns:\n",
    "        sns.boxplot(y=x[i])\n",
    "        plt.show()\n",
    "    return"
   ]
  },
  {
   "cell_type": "code",
   "execution_count": 45,
   "id": "5f235c4c",
   "metadata": {},
   "outputs": [
    {
     "data": {
      "image/png": "[encoded data removed]",
      "text/plain": [
       "<Figure size 432x288 with 1 Axes>"
      ]
     },
     "metadata": {
      "needs_background": "light"
     },
     "output_type": "display_data"
    },
    {
     "data": {
      "image/png": "[encoded data removed]",
      "text/plain": [
       "<Figure size 432x288 with 1 Axes>"
      ]
     },
     "metadata": {
      "needs_background": "light"
     },
     "output_type": "display_data"
    },
    {
     "data": {
      "image/png": "[encoded data removed]",
      "text/plain": [
       "<Figure size 432x288 with 1 Axes>"
      ]
     },
     "metadata": {
      "needs_background": "light"
     },
     "output_type": "display_data"
    },
    {
     "data": {
      "image/png": "[encoded data removed]",
      "text/plain": [
       "<Figure size 432x288 with 1 Axes>"
      ]
     },
     "metadata": {
      "needs_background": "light"
     },
     "output_type": "display_data"
    },
    {
     "data": {
      "image/png": "[encoded data removed]",
      "text/plain": [
       "<Figure size 432x288 with 1 Axes>"
      ]
     },
     "metadata": {
      "needs_background": "light"
     },
     "output_type": "display_data"
    }
   ],
   "source": [
    "plot_outliers(data_num)"
   ]
  },
  {
   "cell_type": "code",
   "execution_count": 46,
   "id": "1c132aa2",
   "metadata": {},
   "outputs": [],
   "source": [
    "# According to the boxplot there are a few outliers in mileage and price columns."
   ]
  },
  {
   "cell_type": "code",
   "execution_count": 47,
   "id": "a4671d1b",
   "metadata": {},
   "outputs": [],
   "source": [
    "def cleaning_outliers(name,column,lower=0.01,upper=0.99):\n",
    "    lower_limit,upper_limit=name[column].quantile([lower,upper])\n",
    "    name=name[(name[column]>lower_limit)&(name[column]<upper_limit)]\n",
    "    return name"
   ]
  },
  {
   "cell_type": "code",
   "execution_count": 48,
   "id": "1d9ee684",
   "metadata": {},
   "outputs": [],
   "source": [
    "data=cleaning_outliers(data,'price',0.01,0.99)"
   ]
  },
  {
   "cell_type": "code",
   "execution_count": 49,
   "id": "afc9063c",
   "metadata": {},
   "outputs": [],
   "source": [
    "data=cleaning_outliers(data,'mileage')"
   ]
  },
  {
   "cell_type": "code",
   "execution_count": 50,
   "id": "857bad35",
   "metadata": {},
   "outputs": [
    {
     "data": {
      "text/plain": [
       "(42210, 10)"
      ]
     },
     "execution_count": 50,
     "metadata": {},
     "output_type": "execute_result"
    }
   ],
   "source": [
    "data.shape"
   ]
  },
  {
   "cell_type": "code",
   "execution_count": 51,
   "id": "3c474079",
   "metadata": {},
   "outputs": [],
   "source": [
    "#checking the multicollinearity "
   ]
  },
  {
   "cell_type": "code",
   "execution_count": 52,
   "id": "b312a089",
   "metadata": {},
   "outputs": [
    {
     "data": {
      "image/png": "[encoded data removed]",
      "text/plain": [
       "<Figure size 432x288 with 2 Axes>"
      ]
     },
     "metadata": {
      "needs_background": "light"
     },
     "output_type": "display_data"
    }
   ],
   "source": [
    "correlations_matrix = data.corr()\n",
    "sns.heatmap(correlations_matrix, annot=True)\n",
    "plt.show()"
   ]
  },
  {
   "cell_type": "code",
   "execution_count": 53,
   "id": "79db06dd",
   "metadata": {},
   "outputs": [],
   "source": [
    "# In terms of the correlation matrix there is strong correaltion between year and age_of_car. Therefore i decide to drop the year column and keep the rest of columns."
   ]
  },
  {
   "cell_type": "code",
   "execution_count": 54,
   "id": "773b113d",
   "metadata": {},
   "outputs": [],
   "source": [
    "data=data.drop('year',axis=1)"
   ]
  },
  {
   "cell_type": "code",
   "execution_count": 55,
   "id": "65d35cf3",
   "metadata": {},
   "outputs": [
    {
     "data": {
      "text/html": [
       "<div>\n",
       "<style scoped>\n",
       "    .dataframe tbody tr th:only-of-type {\n",
       "        vertical-align: middle;\n",
       "    }\n",
       "\n",
       "    .dataframe tbody tr th {\n",
       "        vertical-align: top;\n",
       "    }\n",
       "\n",
       "    .dataframe thead th {\n",
       "        text-align: right;\n",
       "    }\n",
       "</style>\n",
       "<table border=\"1\" class=\"dataframe\">\n",
       "  <thead>\n",
       "    <tr style=\"text-align: right;\">\n",
       "      <th></th>\n",
       "      <th>mileage</th>\n",
       "      <th>manufacturer</th>\n",
       "      <th>fuel</th>\n",
       "      <th>gear</th>\n",
       "      <th>offer_type</th>\n",
       "      <th>price</th>\n",
       "      <th>hp</th>\n",
       "      <th>age_of_car</th>\n",
       "      <th>place_of_origin</th>\n",
       "    </tr>\n",
       "  </thead>\n",
       "  <tbody>\n",
       "    <tr>\n",
       "      <th>0</th>\n",
       "      <td>235000</td>\n",
       "      <td>BMW</td>\n",
       "      <td>Diesel</td>\n",
       "      <td>Manual</td>\n",
       "      <td>Used</td>\n",
       "      <td>6800</td>\n",
       "      <td>116.0</td>\n",
       "      <td>10</td>\n",
       "      <td>Germany</td>\n",
       "    </tr>\n",
       "    <tr>\n",
       "      <th>1</th>\n",
       "      <td>92800</td>\n",
       "      <td>Volkswagen</td>\n",
       "      <td>Gasoline</td>\n",
       "      <td>Manual</td>\n",
       "      <td>Used</td>\n",
       "      <td>6877</td>\n",
       "      <td>122.0</td>\n",
       "      <td>10</td>\n",
       "      <td>Germany</td>\n",
       "    </tr>\n",
       "    <tr>\n",
       "      <th>2</th>\n",
       "      <td>149300</td>\n",
       "      <td>SEAT</td>\n",
       "      <td>Gasoline</td>\n",
       "      <td>Manual</td>\n",
       "      <td>Used</td>\n",
       "      <td>6900</td>\n",
       "      <td>160.0</td>\n",
       "      <td>10</td>\n",
       "      <td>others</td>\n",
       "    </tr>\n",
       "    <tr>\n",
       "      <th>3</th>\n",
       "      <td>96200</td>\n",
       "      <td>Renault</td>\n",
       "      <td>Gasoline</td>\n",
       "      <td>Manual</td>\n",
       "      <td>Used</td>\n",
       "      <td>6950</td>\n",
       "      <td>110.0</td>\n",
       "      <td>10</td>\n",
       "      <td>others</td>\n",
       "    </tr>\n",
       "    <tr>\n",
       "      <th>4</th>\n",
       "      <td>156000</td>\n",
       "      <td>Peugeot</td>\n",
       "      <td>Gasoline</td>\n",
       "      <td>Manual</td>\n",
       "      <td>Used</td>\n",
       "      <td>6950</td>\n",
       "      <td>156.0</td>\n",
       "      <td>10</td>\n",
       "      <td>others</td>\n",
       "    </tr>\n",
       "  </tbody>\n",
       "</table>\n",
       "</div>"
      ],
      "text/plain": [
       "   mileage manufacturer      fuel    gear offer_type  price     hp  \\\n",
       "0   235000          BMW    Diesel  Manual       Used   6800  116.0   \n",
       "1    92800   Volkswagen  Gasoline  Manual       Used   6877  122.0   \n",
       "2   149300         SEAT  Gasoline  Manual       Used   6900  160.0   \n",
       "3    96200      Renault  Gasoline  Manual       Used   6950  110.0   \n",
       "4   156000      Peugeot  Gasoline  Manual       Used   6950  156.0   \n",
       "\n",
       "   age_of_car place_of_origin  \n",
       "0          10         Germany  \n",
       "1          10         Germany  \n",
       "2          10          others  \n",
       "3          10          others  \n",
       "4          10          others  "
      ]
     },
     "execution_count": 55,
     "metadata": {},
     "output_type": "execute_result"
    }
   ],
   "source": [
    "data.head()"
   ]
  },
  {
   "cell_type": "code",
   "execution_count": 56,
   "id": "01bc31f5",
   "metadata": {},
   "outputs": [],
   "source": [
    "#reclassifying each column"
   ]
  },
  {
   "cell_type": "code",
   "execution_count": 57,
   "id": "cfe7d223",
   "metadata": {
    "scrolled": true
   },
   "outputs": [
    {
     "name": "stdout",
     "output_type": "stream",
     "text": [
      "10        943\n",
      "50        290\n",
      "20        283\n",
      "100       201\n",
      "100000    194\n",
      "         ... \n",
      "107003      1\n",
      "171220      1\n",
      "184177      1\n",
      "97920       1\n",
      "837         1\n",
      "Name: mileage, Length: 19517, dtype: int64\n",
      "Volkswagen    6530\n",
      "Opel          4498\n",
      "Ford          4151\n",
      "Skoda         2653\n",
      "Renault       2545\n",
      "              ... \n",
      "FISKER           1\n",
      "9ff              1\n",
      "Zhidou           1\n",
      "Isuzu            1\n",
      "Aixam            1\n",
      "Name: manufacturer, Length: 65, dtype: int64\n",
      "Gasoline             26241\n",
      "Diesel               14087\n",
      "Electric/Gasoline      944\n",
      "Electric               620\n",
      "CNG                    104\n",
      "LPG                     99\n",
      "Electric/Diesel         48\n",
      "Others                  45\n",
      "-/- (Fuel)              20\n",
      "Hydrogen                 1\n",
      "Ethanol                  1\n",
      "Name: fuel, dtype: int64\n",
      "Manual            27789\n",
      "Automatic         14370\n",
      "Semi-automatic       51\n",
      "Name: gear, dtype: int64\n",
      "Used              37384\n",
      "Demonstration      2031\n",
      "Pre-registered     1735\n",
      "Employee's car     1060\n",
      "Name: offer_type, dtype: int64\n",
      "7990     445\n",
      "6990     415\n",
      "8990     407\n",
      "5990     391\n",
      "9990     369\n",
      "        ... \n",
      "20562      1\n",
      "12557      1\n",
      "21299      1\n",
      "21407      1\n",
      "24810      1\n",
      "Name: price, Length: 6135, dtype: int64\n",
      "150.0    3490\n",
      "69.0     2233\n",
      "90.0     1880\n",
      "110.0    1636\n",
      "60.0     1601\n",
      "         ... \n",
      "196.0       1\n",
      "10.0        1\n",
      "281.0       1\n",
      "273.0       1\n",
      "344.0       1\n",
      "Name: hp, Length: 280, dtype: int64\n",
      "5     4053\n",
      "4     4033\n",
      "3     4030\n",
      "8     3984\n",
      "6     3983\n",
      "2     3954\n",
      "7     3951\n",
      "1     3937\n",
      "9     3837\n",
      "10    3581\n",
      "0     2867\n",
      "Name: age_of_car, dtype: int64\n",
      "others     22746\n",
      "Germany    19464\n",
      "Name: place_of_origin, dtype: int64\n"
     ]
    }
   ],
   "source": [
    "for i in data.columns:\n",
    "    print(data[i].value_counts())"
   ]
  },
  {
   "cell_type": "code",
   "execution_count": 58,
   "id": "2edb524c",
   "metadata": {},
   "outputs": [
    {
     "data": {
      "text/plain": [
       "880"
      ]
     },
     "execution_count": 58,
     "metadata": {},
     "output_type": "execute_result"
    }
   ],
   "source": [
    "data['manufacturer'].value_counts()[15]"
   ]
  },
  {
   "cell_type": "code",
   "execution_count": 59,
   "id": "16b332b9",
   "metadata": {},
   "outputs": [],
   "source": [
    "def select_object(d_name,col_name,number):\n",
    "    list1=[]\n",
    "    for i in range(len(d_name[col_name].value_counts())):\n",
    "        if d_name[col_name].value_counts()[i]>number:\n",
    "            list1.append(d_name[col_name].value_counts().index[i])\n",
    "    return list1"
   ]
  },
  {
   "cell_type": "code",
   "execution_count": 60,
   "id": "95719475",
   "metadata": {},
   "outputs": [],
   "source": [
    "list_name=select_object(data,'manufacturer',1500)"
   ]
  },
  {
   "cell_type": "code",
   "execution_count": 61,
   "id": "5af1d3c7",
   "metadata": {},
   "outputs": [
    {
     "data": {
      "text/plain": [
       "['Volkswagen',\n",
       " 'Opel',\n",
       " 'Ford',\n",
       " 'Skoda',\n",
       " 'Renault',\n",
       " 'Audi',\n",
       " 'BMW',\n",
       " 'Mercedes-Benz',\n",
       " 'SEAT',\n",
       " 'Hyundai']"
      ]
     },
     "execution_count": 61,
     "metadata": {},
     "output_type": "execute_result"
    }
   ],
   "source": [
    "list_name"
   ]
  },
  {
   "cell_type": "code",
   "execution_count": 62,
   "id": "8a863ace",
   "metadata": {},
   "outputs": [],
   "source": [
    "data['manufacturer']=np.where(data['manufacturer'].isin(list_name),data['manufacturer'],'other')"
   ]
  },
  {
   "cell_type": "code",
   "execution_count": 63,
   "id": "df4c0bab",
   "metadata": {},
   "outputs": [
    {
     "data": {
      "text/plain": [
       "other            11598\n",
       "Volkswagen        6530\n",
       "Opel              4498\n",
       "Ford              4151\n",
       "Skoda             2653\n",
       "Renault           2545\n",
       "Audi              2439\n",
       "BMW               2293\n",
       "Mercedes-Benz     2088\n",
       "SEAT              1779\n",
       "Hyundai           1636\n",
       "Name: manufacturer, dtype: int64"
      ]
     },
     "execution_count": 63,
     "metadata": {},
     "output_type": "execute_result"
    }
   ],
   "source": [
    "data['manufacturer'].value_counts()# maybe it is not right"
   ]
  },
  {
   "cell_type": "code",
   "execution_count": 64,
   "id": "9f283631",
   "metadata": {},
   "outputs": [],
   "source": [
    "data['fuel']=np.where(data['fuel'].isin(['Gasoline','Diesel','Electric/Gasoline','Electric']),data['fuel'],'other')"
   ]
  },
  {
   "cell_type": "code",
   "execution_count": 65,
   "id": "a9920909",
   "metadata": {},
   "outputs": [
    {
     "data": {
      "text/plain": [
       "Gasoline             26241\n",
       "Diesel               14087\n",
       "Electric/Gasoline      944\n",
       "Electric               620\n",
       "other                  318\n",
       "Name: fuel, dtype: int64"
      ]
     },
     "execution_count": 65,
     "metadata": {},
     "output_type": "execute_result"
    }
   ],
   "source": [
    "data['fuel'].value_counts()"
   ]
  },
  {
   "cell_type": "code",
   "execution_count": 66,
   "id": "03b60710",
   "metadata": {},
   "outputs": [],
   "source": [
    "# spliting the x and y and normalizing the data"
   ]
  },
  {
   "cell_type": "code",
   "execution_count": 67,
   "id": "c7139bb7",
   "metadata": {},
   "outputs": [],
   "source": [
    "model=data.reset_index(drop=True).copy()"
   ]
  },
  {
   "cell_type": "code",
   "execution_count": 68,
   "id": "cec3142c",
   "metadata": {},
   "outputs": [],
   "source": [
    "y=model['price']\n",
    "X=model.drop('price',axis=1)"
   ]
  },
  {
   "cell_type": "code",
   "execution_count": 69,
   "id": "ec734c4b",
   "metadata": {},
   "outputs": [
    {
     "data": {
      "text/html": [
       "<div>\n",
       "<style scoped>\n",
       "    .dataframe tbody tr th:only-of-type {\n",
       "        vertical-align: middle;\n",
       "    }\n",
       "\n",
       "    .dataframe tbody tr th {\n",
       "        vertical-align: top;\n",
       "    }\n",
       "\n",
       "    .dataframe thead th {\n",
       "        text-align: right;\n",
       "    }\n",
       "</style>\n",
       "<table border=\"1\" class=\"dataframe\">\n",
       "  <thead>\n",
       "    <tr style=\"text-align: right;\">\n",
       "      <th></th>\n",
       "      <th>mileage</th>\n",
       "      <th>manufacturer</th>\n",
       "      <th>fuel</th>\n",
       "      <th>gear</th>\n",
       "      <th>offer_type</th>\n",
       "      <th>hp</th>\n",
       "      <th>age_of_car</th>\n",
       "      <th>place_of_origin</th>\n",
       "    </tr>\n",
       "  </thead>\n",
       "  <tbody>\n",
       "    <tr>\n",
       "      <th>0</th>\n",
       "      <td>235000</td>\n",
       "      <td>BMW</td>\n",
       "      <td>Diesel</td>\n",
       "      <td>Manual</td>\n",
       "      <td>Used</td>\n",
       "      <td>116.0</td>\n",
       "      <td>10</td>\n",
       "      <td>Germany</td>\n",
       "    </tr>\n",
       "    <tr>\n",
       "      <th>1</th>\n",
       "      <td>92800</td>\n",
       "      <td>Volkswagen</td>\n",
       "      <td>Gasoline</td>\n",
       "      <td>Manual</td>\n",
       "      <td>Used</td>\n",
       "      <td>122.0</td>\n",
       "      <td>10</td>\n",
       "      <td>Germany</td>\n",
       "    </tr>\n",
       "    <tr>\n",
       "      <th>2</th>\n",
       "      <td>149300</td>\n",
       "      <td>SEAT</td>\n",
       "      <td>Gasoline</td>\n",
       "      <td>Manual</td>\n",
       "      <td>Used</td>\n",
       "      <td>160.0</td>\n",
       "      <td>10</td>\n",
       "      <td>others</td>\n",
       "    </tr>\n",
       "    <tr>\n",
       "      <th>3</th>\n",
       "      <td>96200</td>\n",
       "      <td>Renault</td>\n",
       "      <td>Gasoline</td>\n",
       "      <td>Manual</td>\n",
       "      <td>Used</td>\n",
       "      <td>110.0</td>\n",
       "      <td>10</td>\n",
       "      <td>others</td>\n",
       "    </tr>\n",
       "    <tr>\n",
       "      <th>4</th>\n",
       "      <td>156000</td>\n",
       "      <td>other</td>\n",
       "      <td>Gasoline</td>\n",
       "      <td>Manual</td>\n",
       "      <td>Used</td>\n",
       "      <td>156.0</td>\n",
       "      <td>10</td>\n",
       "      <td>others</td>\n",
       "    </tr>\n",
       "  </tbody>\n",
       "</table>\n",
       "</div>"
      ],
      "text/plain": [
       "   mileage manufacturer      fuel    gear offer_type     hp  age_of_car  \\\n",
       "0   235000          BMW    Diesel  Manual       Used  116.0          10   \n",
       "1    92800   Volkswagen  Gasoline  Manual       Used  122.0          10   \n",
       "2   149300         SEAT  Gasoline  Manual       Used  160.0          10   \n",
       "3    96200      Renault  Gasoline  Manual       Used  110.0          10   \n",
       "4   156000        other  Gasoline  Manual       Used  156.0          10   \n",
       "\n",
       "  place_of_origin  \n",
       "0         Germany  \n",
       "1         Germany  \n",
       "2          others  \n",
       "3          others  \n",
       "4          others  "
      ]
     },
     "execution_count": 69,
     "metadata": {},
     "output_type": "execute_result"
    }
   ],
   "source": [
    "X.head()"
   ]
  },
  {
   "cell_type": "code",
   "execution_count": 70,
   "id": "cc6cd17b",
   "metadata": {},
   "outputs": [],
   "source": [
    "from sklearn.model_selection import train_test_split"
   ]
  },
  {
   "cell_type": "code",
   "execution_count": 71,
   "id": "eba36800",
   "metadata": {},
   "outputs": [
    {
     "data": {
      "text/plain": [
       "(33768, 8)"
      ]
     },
     "execution_count": 71,
     "metadata": {},
     "output_type": "execute_result"
    }
   ],
   "source": [
    "X_train, X_test, y_train, y_test = train_test_split(X, y, test_size=0.2)\n",
    "X_train.shape"
   ]
  },
  {
   "cell_type": "code",
   "execution_count": 72,
   "id": "99c96ee1",
   "metadata": {},
   "outputs": [],
   "source": [
    "X_train_num=X_train.select_dtypes(np.number)\n",
    "X_train_cat=X_train.select_dtypes(object)\n",
    "\n",
    "X_test_num=X_test.select_dtypes(np.number)\n",
    "X_test_cat=X_test.select_dtypes(object)"
   ]
  },
  {
   "cell_type": "code",
   "execution_count": 73,
   "id": "68e9f002",
   "metadata": {},
   "outputs": [],
   "source": [
    "# scaling the numerical data"
   ]
  },
  {
   "cell_type": "code",
   "execution_count": 74,
   "id": "fc9ebb63",
   "metadata": {},
   "outputs": [
    {
     "data": {
      "text/html": [
       "<div>\n",
       "<style scoped>\n",
       "    .dataframe tbody tr th:only-of-type {\n",
       "        vertical-align: middle;\n",
       "    }\n",
       "\n",
       "    .dataframe tbody tr th {\n",
       "        vertical-align: top;\n",
       "    }\n",
       "\n",
       "    .dataframe thead th {\n",
       "        text-align: right;\n",
       "    }\n",
       "</style>\n",
       "<table border=\"1\" class=\"dataframe\">\n",
       "  <thead>\n",
       "    <tr style=\"text-align: right;\">\n",
       "      <th></th>\n",
       "      <th>mileage</th>\n",
       "      <th>hp</th>\n",
       "      <th>age_of_car</th>\n",
       "    </tr>\n",
       "  </thead>\n",
       "  <tbody>\n",
       "    <tr>\n",
       "      <th>0</th>\n",
       "      <td>0.140736</td>\n",
       "      <td>0.175097</td>\n",
       "      <td>0.4</td>\n",
       "    </tr>\n",
       "    <tr>\n",
       "      <th>1</th>\n",
       "      <td>0.641161</td>\n",
       "      <td>0.210117</td>\n",
       "      <td>0.9</td>\n",
       "    </tr>\n",
       "    <tr>\n",
       "      <th>2</th>\n",
       "      <td>0.376228</td>\n",
       "      <td>0.180285</td>\n",
       "      <td>1.0</td>\n",
       "    </tr>\n",
       "    <tr>\n",
       "      <th>3</th>\n",
       "      <td>0.241628</td>\n",
       "      <td>0.115435</td>\n",
       "      <td>1.0</td>\n",
       "    </tr>\n",
       "    <tr>\n",
       "      <th>4</th>\n",
       "      <td>0.157614</td>\n",
       "      <td>0.156939</td>\n",
       "      <td>0.4</td>\n",
       "    </tr>\n",
       "  </tbody>\n",
       "</table>\n",
       "</div>"
      ],
      "text/plain": [
       "    mileage        hp  age_of_car\n",
       "0  0.140736  0.175097         0.4\n",
       "1  0.641161  0.210117         0.9\n",
       "2  0.376228  0.180285         1.0\n",
       "3  0.241628  0.115435         1.0\n",
       "4  0.157614  0.156939         0.4"
      ]
     },
     "execution_count": 74,
     "metadata": {},
     "output_type": "execute_result"
    }
   ],
   "source": [
    "from sklearn.preprocessing import MinMaxScaler\n",
    "\n",
    "transformer = MinMaxScaler().fit(X_train_num)\n",
    "X_norm = transformer.transform(X_train_num)\n",
    "X_train_norm = pd.DataFrame(X_norm, columns=X_train_num.columns)\n",
    "X_train_norm.head()\n",
    "\n",
    "X_test_norm=pd.DataFrame(transformer.transform(X_test_num),columns=X_test_num.columns)\n",
    "X_test_norm.head()"
   ]
  },
  {
   "cell_type": "code",
   "execution_count": 75,
   "id": "dd3915aa",
   "metadata": {},
   "outputs": [],
   "source": [
    "# encoding the categorical data"
   ]
  },
  {
   "cell_type": "code",
   "execution_count": 76,
   "id": "4a02ee05",
   "metadata": {},
   "outputs": [
    {
     "name": "stderr",
     "output_type": "stream",
     "text": [
      "D:\\anaconda\\lib\\site-packages\\sklearn\\utils\\deprecation.py:87: FutureWarning: Function get_feature_names is deprecated; get_feature_names is deprecated in 1.0 and will be removed in 1.2. Please use get_feature_names_out instead.\n",
      "  warnings.warn(msg, category=FutureWarning)\n",
      "D:\\anaconda\\lib\\site-packages\\sklearn\\utils\\deprecation.py:87: FutureWarning: Function get_feature_names is deprecated; get_feature_names is deprecated in 1.0 and will be removed in 1.2. Please use get_feature_names_out instead.\n",
      "  warnings.warn(msg, category=FutureWarning)\n"
     ]
    },
    {
     "data": {
      "text/html": [
       "<div>\n",
       "<style scoped>\n",
       "    .dataframe tbody tr th:only-of-type {\n",
       "        vertical-align: middle;\n",
       "    }\n",
       "\n",
       "    .dataframe tbody tr th {\n",
       "        vertical-align: top;\n",
       "    }\n",
       "\n",
       "    .dataframe thead th {\n",
       "        text-align: right;\n",
       "    }\n",
       "</style>\n",
       "<table border=\"1\" class=\"dataframe\">\n",
       "  <thead>\n",
       "    <tr style=\"text-align: right;\">\n",
       "      <th></th>\n",
       "      <th>manufacturer_BMW</th>\n",
       "      <th>manufacturer_Ford</th>\n",
       "      <th>manufacturer_Hyundai</th>\n",
       "      <th>manufacturer_Mercedes-Benz</th>\n",
       "      <th>manufacturer_Opel</th>\n",
       "      <th>manufacturer_Renault</th>\n",
       "      <th>manufacturer_SEAT</th>\n",
       "      <th>manufacturer_Skoda</th>\n",
       "      <th>manufacturer_Volkswagen</th>\n",
       "      <th>manufacturer_other</th>\n",
       "      <th>fuel_Electric</th>\n",
       "      <th>fuel_Electric/Gasoline</th>\n",
       "      <th>fuel_Gasoline</th>\n",
       "      <th>fuel_other</th>\n",
       "      <th>gear_Manual</th>\n",
       "      <th>gear_Semi-automatic</th>\n",
       "      <th>offer_type_Employee's car</th>\n",
       "      <th>offer_type_Pre-registered</th>\n",
       "      <th>offer_type_Used</th>\n",
       "      <th>place_of_origin_others</th>\n",
       "    </tr>\n",
       "  </thead>\n",
       "  <tbody>\n",
       "    <tr>\n",
       "      <th>0</th>\n",
       "      <td>0.0</td>\n",
       "      <td>0.0</td>\n",
       "      <td>0.0</td>\n",
       "      <td>0.0</td>\n",
       "      <td>0.0</td>\n",
       "      <td>0.0</td>\n",
       "      <td>0.0</td>\n",
       "      <td>0.0</td>\n",
       "      <td>0.0</td>\n",
       "      <td>1.0</td>\n",
       "      <td>0.0</td>\n",
       "      <td>1.0</td>\n",
       "      <td>0.0</td>\n",
       "      <td>0.0</td>\n",
       "      <td>0.0</td>\n",
       "      <td>0.0</td>\n",
       "      <td>0.0</td>\n",
       "      <td>0.0</td>\n",
       "      <td>1.0</td>\n",
       "      <td>1.0</td>\n",
       "    </tr>\n",
       "    <tr>\n",
       "      <th>1</th>\n",
       "      <td>0.0</td>\n",
       "      <td>1.0</td>\n",
       "      <td>0.0</td>\n",
       "      <td>0.0</td>\n",
       "      <td>0.0</td>\n",
       "      <td>0.0</td>\n",
       "      <td>0.0</td>\n",
       "      <td>0.0</td>\n",
       "      <td>0.0</td>\n",
       "      <td>0.0</td>\n",
       "      <td>0.0</td>\n",
       "      <td>0.0</td>\n",
       "      <td>0.0</td>\n",
       "      <td>0.0</td>\n",
       "      <td>1.0</td>\n",
       "      <td>0.0</td>\n",
       "      <td>0.0</td>\n",
       "      <td>0.0</td>\n",
       "      <td>1.0</td>\n",
       "      <td>1.0</td>\n",
       "    </tr>\n",
       "    <tr>\n",
       "      <th>2</th>\n",
       "      <td>0.0</td>\n",
       "      <td>0.0</td>\n",
       "      <td>0.0</td>\n",
       "      <td>0.0</td>\n",
       "      <td>0.0</td>\n",
       "      <td>1.0</td>\n",
       "      <td>0.0</td>\n",
       "      <td>0.0</td>\n",
       "      <td>0.0</td>\n",
       "      <td>0.0</td>\n",
       "      <td>0.0</td>\n",
       "      <td>0.0</td>\n",
       "      <td>1.0</td>\n",
       "      <td>0.0</td>\n",
       "      <td>0.0</td>\n",
       "      <td>0.0</td>\n",
       "      <td>0.0</td>\n",
       "      <td>0.0</td>\n",
       "      <td>1.0</td>\n",
       "      <td>1.0</td>\n",
       "    </tr>\n",
       "    <tr>\n",
       "      <th>3</th>\n",
       "      <td>0.0</td>\n",
       "      <td>0.0</td>\n",
       "      <td>0.0</td>\n",
       "      <td>0.0</td>\n",
       "      <td>0.0</td>\n",
       "      <td>0.0</td>\n",
       "      <td>0.0</td>\n",
       "      <td>0.0</td>\n",
       "      <td>0.0</td>\n",
       "      <td>1.0</td>\n",
       "      <td>0.0</td>\n",
       "      <td>0.0</td>\n",
       "      <td>0.0</td>\n",
       "      <td>0.0</td>\n",
       "      <td>1.0</td>\n",
       "      <td>0.0</td>\n",
       "      <td>0.0</td>\n",
       "      <td>0.0</td>\n",
       "      <td>1.0</td>\n",
       "      <td>1.0</td>\n",
       "    </tr>\n",
       "    <tr>\n",
       "      <th>4</th>\n",
       "      <td>0.0</td>\n",
       "      <td>0.0</td>\n",
       "      <td>0.0</td>\n",
       "      <td>1.0</td>\n",
       "      <td>0.0</td>\n",
       "      <td>0.0</td>\n",
       "      <td>0.0</td>\n",
       "      <td>0.0</td>\n",
       "      <td>0.0</td>\n",
       "      <td>0.0</td>\n",
       "      <td>0.0</td>\n",
       "      <td>0.0</td>\n",
       "      <td>1.0</td>\n",
       "      <td>0.0</td>\n",
       "      <td>0.0</td>\n",
       "      <td>0.0</td>\n",
       "      <td>0.0</td>\n",
       "      <td>0.0</td>\n",
       "      <td>1.0</td>\n",
       "      <td>0.0</td>\n",
       "    </tr>\n",
       "  </tbody>\n",
       "</table>\n",
       "</div>"
      ],
      "text/plain": [
       "   manufacturer_BMW  manufacturer_Ford  manufacturer_Hyundai  \\\n",
       "0               0.0                0.0                   0.0   \n",
       "1               0.0                1.0                   0.0   \n",
       "2               0.0                0.0                   0.0   \n",
       "3               0.0                0.0                   0.0   \n",
       "4               0.0                0.0                   0.0   \n",
       "\n",
       "   manufacturer_Mercedes-Benz  manufacturer_Opel  manufacturer_Renault  \\\n",
       "0                         0.0                0.0                   0.0   \n",
       "1                         0.0                0.0                   0.0   \n",
       "2                         0.0                0.0                   1.0   \n",
       "3                         0.0                0.0                   0.0   \n",
       "4                         1.0                0.0                   0.0   \n",
       "\n",
       "   manufacturer_SEAT  manufacturer_Skoda  manufacturer_Volkswagen  \\\n",
       "0                0.0                 0.0                      0.0   \n",
       "1                0.0                 0.0                      0.0   \n",
       "2                0.0                 0.0                      0.0   \n",
       "3                0.0                 0.0                      0.0   \n",
       "4                0.0                 0.0                      0.0   \n",
       "\n",
       "   manufacturer_other  fuel_Electric  fuel_Electric/Gasoline  fuel_Gasoline  \\\n",
       "0                 1.0            0.0                     1.0            0.0   \n",
       "1                 0.0            0.0                     0.0            0.0   \n",
       "2                 0.0            0.0                     0.0            1.0   \n",
       "3                 1.0            0.0                     0.0            0.0   \n",
       "4                 0.0            0.0                     0.0            1.0   \n",
       "\n",
       "   fuel_other  gear_Manual  gear_Semi-automatic  offer_type_Employee's car  \\\n",
       "0         0.0          0.0                  0.0                        0.0   \n",
       "1         0.0          1.0                  0.0                        0.0   \n",
       "2         0.0          0.0                  0.0                        0.0   \n",
       "3         0.0          1.0                  0.0                        0.0   \n",
       "4         0.0          0.0                  0.0                        0.0   \n",
       "\n",
       "   offer_type_Pre-registered  offer_type_Used  place_of_origin_others  \n",
       "0                        0.0              1.0                     1.0  \n",
       "1                        0.0              1.0                     1.0  \n",
       "2                        0.0              1.0                     1.0  \n",
       "3                        0.0              1.0                     1.0  \n",
       "4                        0.0              1.0                     0.0  "
      ]
     },
     "execution_count": 76,
     "metadata": {},
     "output_type": "execute_result"
    }
   ],
   "source": [
    "from sklearn.preprocessing import OneHotEncoder\n",
    "encoder = OneHotEncoder(drop='first').fit(X_train_cat)\n",
    "encoded_for_p1 = encoder.transform(X_train_cat).toarray()\n",
    "cols = encoder.get_feature_names(input_features=X_train_cat.columns)\n",
    "X_train_cat_encoded = pd.DataFrame(encoded_for_p1, columns=cols)\n",
    "X_train_cat_encoded.head()\n",
    "\n",
    "encoded_for_p2 = encoder.transform(X_test_cat).toarray()\n",
    "cols1 = encoder.get_feature_names(input_features=X_test_cat.columns)\n",
    "X_test_cat_encoded = pd.DataFrame(encoded_for_p2, columns=cols1)\n",
    "X_test_cat_encoded.head()"
   ]
  },
  {
   "cell_type": "code",
   "execution_count": 77,
   "id": "225c88bc",
   "metadata": {},
   "outputs": [],
   "source": [
    "X_train_transformed=pd.concat([X_train_cat_encoded,X_train_norm],axis=1)\n",
    "X_test_transformed=pd.concat([X_test_cat_encoded,X_test_norm],axis=1)"
   ]
  },
  {
   "cell_type": "code",
   "execution_count": 78,
   "id": "652458ca",
   "metadata": {},
   "outputs": [],
   "source": [
    "y_train = y_train.reset_index(drop=True) \n",
    "y_test = y_test.reset_index(drop=True) "
   ]
  },
  {
   "cell_type": "code",
   "execution_count": 79,
   "id": "980e81f6",
   "metadata": {},
   "outputs": [],
   "source": [
    "# creating models"
   ]
  },
  {
   "cell_type": "code",
   "execution_count": 80,
   "id": "bf85df95",
   "metadata": {},
   "outputs": [
    {
     "data": {
      "text/html": [
       "<style>#sk-container-id-1 {color: black;background-color: white;}#sk-container-id-1 pre{padding: 0;}#sk-container-id-1 div.sk-toggleable {background-color: white;}#sk-container-id-1 label.sk-toggleable__label {cursor: pointer;display: block;width: 100%;margin-bottom: 0;padding: 0.3em;box-sizing: border-box;text-align: center;}#sk-container-id-1 label.sk-toggleable__label-arrow:before {content: \"▸\";float: left;margin-right: 0.25em;color: #696969;}#sk-container-id-1 label.sk-toggleable__label-arrow:hover:before {color: black;}#sk-container-id-1 div.sk-estimator:hover label.sk-toggleable__label-arrow:before {color: black;}#sk-container-id-1 div.sk-toggleable__content {max-height: 0;max-width: 0;overflow: hidden;text-align: left;background-color: #f0f8ff;}#sk-container-id-1 div.sk-toggleable__content pre {margin: 0.2em;color: black;border-radius: 0.25em;background-color: #f0f8ff;}#sk-container-id-1 input.sk-toggleable__control:checked~div.sk-toggleable__content {max-height: 200px;max-width: 100%;overflow: auto;}#sk-container-id-1 input.sk-toggleable__control:checked~label.sk-toggleable__label-arrow:before {content: \"▾\";}#sk-container-id-1 div.sk-estimator input.sk-toggleable__control:checked~label.sk-toggleable__label {background-color: #d4ebff;}#sk-container-id-1 div.sk-label input.sk-toggleable__control:checked~label.sk-toggleable__label {background-color: #d4ebff;}#sk-container-id-1 input.sk-hidden--visually {border: 0;clip: rect(1px 1px 1px 1px);clip: rect(1px, 1px, 1px, 1px);height: 1px;margin: -1px;overflow: hidden;padding: 0;position: absolute;width: 1px;}#sk-container-id-1 div.sk-estimator {font-family: monospace;background-color: #f0f8ff;border: 1px dotted black;border-radius: 0.25em;box-sizing: border-box;margin-bottom: 0.5em;}#sk-container-id-1 div.sk-estimator:hover {background-color: #d4ebff;}#sk-container-id-1 div.sk-parallel-item::after {content: \"\";width: 100%;border-bottom: 1px solid gray;flex-grow: 1;}#sk-container-id-1 div.sk-label:hover label.sk-toggleable__label {background-color: #d4ebff;}#sk-container-id-1 div.sk-serial::before {content: \"\";position: absolute;border-left: 1px solid gray;box-sizing: border-box;top: 0;bottom: 0;left: 50%;z-index: 0;}#sk-container-id-1 div.sk-serial {display: flex;flex-direction: column;align-items: center;background-color: white;padding-right: 0.2em;padding-left: 0.2em;position: relative;}#sk-container-id-1 div.sk-item {position: relative;z-index: 1;}#sk-container-id-1 div.sk-parallel {display: flex;align-items: stretch;justify-content: center;background-color: white;position: relative;}#sk-container-id-1 div.sk-item::before, #sk-container-id-1 div.sk-parallel-item::before {content: \"\";position: absolute;border-left: 1px solid gray;box-sizing: border-box;top: 0;bottom: 0;left: 50%;z-index: -1;}#sk-container-id-1 div.sk-parallel-item {display: flex;flex-direction: column;z-index: 1;position: relative;background-color: white;}#sk-container-id-1 div.sk-parallel-item:first-child::after {align-self: flex-end;width: 50%;}#sk-container-id-1 div.sk-parallel-item:last-child::after {align-self: flex-start;width: 50%;}#sk-container-id-1 div.sk-parallel-item:only-child::after {width: 0;}#sk-container-id-1 div.sk-dashed-wrapped {border: 1px dashed gray;margin: 0 0.4em 0.5em 0.4em;box-sizing: border-box;padding-bottom: 0.4em;background-color: white;}#sk-container-id-1 div.sk-label label {font-family: monospace;font-weight: bold;display: inline-block;line-height: 1.2em;}#sk-container-id-1 div.sk-label-container {text-align: center;}#sk-container-id-1 div.sk-container {/* jupyter's `normalize.less` sets `[hidden] { display: none; }` but bootstrap.min.css set `[hidden] { display: none !important; }` so we also need the `!important` here to be able to override the default hidden behavior on the sphinx rendered scikit-learn.org. See: https://github.com/scikit-learn/scikit-learn/issues/21755 */display: inline-block !important;position: relative;}#sk-container-id-1 div.sk-text-repr-fallback {display: none;}</style><div id=\"sk-container-id-1\" class=\"sk-top-container\"><div class=\"sk-text-repr-fallback\"><pre>LinearRegression()</pre><b>In a Jupyter environment, please rerun this cell to show the HTML representation or trust the notebook. <br />On GitHub, the HTML representation is unable to render, please try loading this page with nbviewer.org.</b></div><div class=\"sk-container\" hidden><div class=\"sk-item\"><div class=\"sk-estimator sk-toggleable\"><input class=\"sk-toggleable__control sk-hidden--visually\" id=\"sk-estimator-id-1\" type=\"checkbox\" checked><label for=\"sk-estimator-id-1\" class=\"sk-toggleable__label sk-toggleable__label-arrow\">LinearRegression</label><div class=\"sk-toggleable__content\"><pre>LinearRegression()</pre></div></div></div></div></div>"
      ],
      "text/plain": [
       "LinearRegression()"
      ]
     },
     "execution_count": 80,
     "metadata": {},
     "output_type": "execute_result"
    }
   ],
   "source": [
    "from sklearn import linear_model\n",
    "\n",
    "lm = linear_model.LinearRegression()\n",
    "lm.fit(X_train_transformed,y_train)\n"
   ]
  },
  {
   "cell_type": "code",
   "execution_count": 81,
   "id": "91a84c1e",
   "metadata": {},
   "outputs": [
    {
     "name": "stdout",
     "output_type": "stream",
     "text": [
      "R2 score for the training set is: 0.847722384091738\n"
     ]
    }
   ],
   "source": [
    "from sklearn.metrics import r2_score\n",
    "predictions_train = lm.predict(X_train_transformed)\n",
    "print('R2 score for the training set is:', r2_score(y_train, predictions_train))"
   ]
  },
  {
   "cell_type": "code",
   "execution_count": 82,
   "id": "e743e138",
   "metadata": {},
   "outputs": [
    {
     "name": "stdout",
     "output_type": "stream",
     "text": [
      "R2 score for the testing set is: 0.8509800827624887\n"
     ]
    }
   ],
   "source": [
    "predictions_test=lm.predict(X_test_transformed)\n",
    "print('R2 score for the testing set is:', r2_score(y_test, predictions_test))"
   ]
  },
  {
   "cell_type": "code",
   "execution_count": 83,
   "id": "40d6d10f",
   "metadata": {},
   "outputs": [
    {
     "data": {
      "text/html": [
       "<div>\n",
       "<style scoped>\n",
       "    .dataframe tbody tr th:only-of-type {\n",
       "        vertical-align: middle;\n",
       "    }\n",
       "\n",
       "    .dataframe tbody tr th {\n",
       "        vertical-align: top;\n",
       "    }\n",
       "\n",
       "    .dataframe thead th {\n",
       "        text-align: right;\n",
       "    }\n",
       "</style>\n",
       "<table border=\"1\" class=\"dataframe\">\n",
       "  <thead>\n",
       "    <tr style=\"text-align: right;\">\n",
       "      <th></th>\n",
       "      <th>mileage</th>\n",
       "      <th>price</th>\n",
       "      <th>hp</th>\n",
       "      <th>age_of_car</th>\n",
       "    </tr>\n",
       "  </thead>\n",
       "  <tbody>\n",
       "    <tr>\n",
       "      <th>count</th>\n",
       "      <td>42210.000000</td>\n",
       "      <td>42210.000000</td>\n",
       "      <td>42210.000000</td>\n",
       "      <td>42210.000000</td>\n",
       "    </tr>\n",
       "    <tr>\n",
       "      <th>mean</th>\n",
       "      <td>70232.498910</td>\n",
       "      <td>15465.284293</td>\n",
       "      <td>130.576688</td>\n",
       "      <td>5.072305</td>\n",
       "    </tr>\n",
       "    <tr>\n",
       "      <th>std</th>\n",
       "      <td>56098.007406</td>\n",
       "      <td>12081.585468</td>\n",
       "      <td>65.558998</td>\n",
       "      <td>3.065867</td>\n",
       "    </tr>\n",
       "    <tr>\n",
       "      <th>min</th>\n",
       "      <td>8.000000</td>\n",
       "      <td>3303.000000</td>\n",
       "      <td>1.000000</td>\n",
       "      <td>0.000000</td>\n",
       "    </tr>\n",
       "    <tr>\n",
       "      <th>25%</th>\n",
       "      <td>22500.000000</td>\n",
       "      <td>7500.000000</td>\n",
       "      <td>86.000000</td>\n",
       "      <td>2.000000</td>\n",
       "    </tr>\n",
       "    <tr>\n",
       "      <th>50%</th>\n",
       "      <td>61082.000000</td>\n",
       "      <td>10990.000000</td>\n",
       "      <td>116.000000</td>\n",
       "      <td>5.000000</td>\n",
       "    </tr>\n",
       "    <tr>\n",
       "      <th>75%</th>\n",
       "      <td>104000.000000</td>\n",
       "      <td>19000.000000</td>\n",
       "      <td>150.000000</td>\n",
       "      <td>8.000000</td>\n",
       "    </tr>\n",
       "    <tr>\n",
       "      <th>max</th>\n",
       "      <td>257809.000000</td>\n",
       "      <td>83770.000000</td>\n",
       "      <td>772.000000</td>\n",
       "      <td>10.000000</td>\n",
       "    </tr>\n",
       "  </tbody>\n",
       "</table>\n",
       "</div>"
      ],
      "text/plain": [
       "             mileage         price            hp    age_of_car\n",
       "count   42210.000000  42210.000000  42210.000000  42210.000000\n",
       "mean    70232.498910  15465.284293    130.576688      5.072305\n",
       "std     56098.007406  12081.585468     65.558998      3.065867\n",
       "min         8.000000   3303.000000      1.000000      0.000000\n",
       "25%     22500.000000   7500.000000     86.000000      2.000000\n",
       "50%     61082.000000  10990.000000    116.000000      5.000000\n",
       "75%    104000.000000  19000.000000    150.000000      8.000000\n",
       "max    257809.000000  83770.000000    772.000000     10.000000"
      ]
     },
     "execution_count": 83,
     "metadata": {},
     "output_type": "execute_result"
    }
   ],
   "source": [
    "# creating a new column named price interval\n",
    "data.describe()"
   ]
  },
  {
   "cell_type": "code",
   "execution_count": 84,
   "id": "d10760ce",
   "metadata": {},
   "outputs": [],
   "source": [
    "data=data.reset_index(drop=True)"
   ]
  },
  {
   "cell_type": "code",
   "execution_count": 85,
   "id": "d9ddb760",
   "metadata": {},
   "outputs": [
    {
     "data": {
      "text/plain": [
       "price_category_userdef\n",
       "Low                       19001\n",
       "Moderate                  13486\n",
       "High                       9723\n",
       "dtype: int64"
      ]
     },
     "execution_count": 85,
     "metadata": {},
     "output_type": "execute_result"
    }
   ],
   "source": [
    "price_labels = ['Low', 'Moderate', 'High']\n",
    "data['price_category_userdef'] = pd.cut(data['price'],[0,10000,20000,100000],labels=price_labels)\n",
    "data[['price_category_userdef']].value_counts()"
   ]
  },
  {
   "cell_type": "code",
   "execution_count": 86,
   "id": "540f9dba",
   "metadata": {},
   "outputs": [
    {
     "data": {
      "text/plain": [
       "Low         19001\n",
       "Moderate    13486\n",
       "High         9723\n",
       "Name: price_category_userdef, dtype: int64"
      ]
     },
     "execution_count": 86,
     "metadata": {},
     "output_type": "execute_result"
    }
   ],
   "source": [
    "data['price_category_userdef'].value_counts()"
   ]
  },
  {
   "cell_type": "code",
   "execution_count": 87,
   "id": "a8b93e72",
   "metadata": {},
   "outputs": [],
   "source": [
    "import scipy.stats as st"
   ]
  },
  {
   "cell_type": "code",
   "execution_count": 88,
   "id": "7a2a9d02",
   "metadata": {},
   "outputs": [
    {
     "data": {
      "text/html": [
       "<div>\n",
       "<style scoped>\n",
       "    .dataframe tbody tr th:only-of-type {\n",
       "        vertical-align: middle;\n",
       "    }\n",
       "\n",
       "    .dataframe tbody tr th {\n",
       "        vertical-align: top;\n",
       "    }\n",
       "\n",
       "    .dataframe thead th {\n",
       "        text-align: right;\n",
       "    }\n",
       "</style>\n",
       "<table border=\"1\" class=\"dataframe\">\n",
       "  <thead>\n",
       "    <tr style=\"text-align: right;\">\n",
       "      <th>place_of_origin</th>\n",
       "      <th>Germany</th>\n",
       "      <th>others</th>\n",
       "    </tr>\n",
       "    <tr>\n",
       "      <th>manufacturer</th>\n",
       "      <th></th>\n",
       "      <th></th>\n",
       "    </tr>\n",
       "  </thead>\n",
       "  <tbody>\n",
       "    <tr>\n",
       "      <th>Audi</th>\n",
       "      <td>2439</td>\n",
       "      <td>0</td>\n",
       "    </tr>\n",
       "    <tr>\n",
       "      <th>BMW</th>\n",
       "      <td>2293</td>\n",
       "      <td>0</td>\n",
       "    </tr>\n",
       "    <tr>\n",
       "      <th>Ford</th>\n",
       "      <td>0</td>\n",
       "      <td>4151</td>\n",
       "    </tr>\n",
       "    <tr>\n",
       "      <th>Hyundai</th>\n",
       "      <td>0</td>\n",
       "      <td>1636</td>\n",
       "    </tr>\n",
       "    <tr>\n",
       "      <th>Mercedes-Benz</th>\n",
       "      <td>2088</td>\n",
       "      <td>0</td>\n",
       "    </tr>\n",
       "    <tr>\n",
       "      <th>Opel</th>\n",
       "      <td>4498</td>\n",
       "      <td>0</td>\n",
       "    </tr>\n",
       "    <tr>\n",
       "      <th>Renault</th>\n",
       "      <td>0</td>\n",
       "      <td>2545</td>\n",
       "    </tr>\n",
       "    <tr>\n",
       "      <th>SEAT</th>\n",
       "      <td>0</td>\n",
       "      <td>1779</td>\n",
       "    </tr>\n",
       "    <tr>\n",
       "      <th>Skoda</th>\n",
       "      <td>0</td>\n",
       "      <td>2653</td>\n",
       "    </tr>\n",
       "    <tr>\n",
       "      <th>Volkswagen</th>\n",
       "      <td>6530</td>\n",
       "      <td>0</td>\n",
       "    </tr>\n",
       "    <tr>\n",
       "      <th>other</th>\n",
       "      <td>1616</td>\n",
       "      <td>9982</td>\n",
       "    </tr>\n",
       "  </tbody>\n",
       "</table>\n",
       "</div>"
      ],
      "text/plain": [
       "place_of_origin  Germany  others\n",
       "manufacturer                    \n",
       "Audi                2439       0\n",
       "BMW                 2293       0\n",
       "Ford                   0    4151\n",
       "Hyundai                0    1636\n",
       "Mercedes-Benz       2088       0\n",
       "Opel                4498       0\n",
       "Renault                0    2545\n",
       "SEAT                   0    1779\n",
       "Skoda                  0    2653\n",
       "Volkswagen          6530       0\n",
       "other               1616    9982"
      ]
     },
     "execution_count": 88,
     "metadata": {},
     "output_type": "execute_result"
    }
   ],
   "source": [
    "data_crosstab = pd.crosstab(data['manufacturer'], data['place_of_origin'], margins=False)\n",
    "data_crosstab"
   ]
  },
  {
   "cell_type": "code",
   "execution_count": 89,
   "id": "3368cd4e",
   "metadata": {},
   "outputs": [
    {
     "data": {
      "text/plain": [
       "0.0"
      ]
     },
     "execution_count": 89,
     "metadata": {},
     "output_type": "execute_result"
    }
   ],
   "source": [
    "# H0  manufacturer and place_of_origin are not related\n",
    "st.chi2_contingency(data_crosstab)[1]\n",
    "# p<0.05,H0 can be rejected which means manufacturer and place_of_origin are related, so i need to drop one of them."
   ]
  },
  {
   "cell_type": "code",
   "execution_count": 90,
   "id": "2fc40cff",
   "metadata": {},
   "outputs": [],
   "source": [
    "data_low=data"
   ]
  },
  {
   "cell_type": "code",
   "execution_count": 91,
   "id": "4f0b93a3",
   "metadata": {},
   "outputs": [],
   "source": [
    "data_low=data_low[(data_low['price_category_userdef'].isin(['Low']))]\n",
    "data_low=data_low.drop('manufacturer',axis=1)"
   ]
  },
  {
   "cell_type": "code",
   "execution_count": null,
   "id": "0e64690d",
   "metadata": {},
   "outputs": [],
   "source": []
  },
  {
   "cell_type": "code",
   "execution_count": null,
   "id": "90cb4ed6",
   "metadata": {},
   "outputs": [],
   "source": []
  },
  {
   "cell_type": "code",
   "execution_count": 92,
   "id": "ba57935d",
   "metadata": {},
   "outputs": [
    {
     "data": {
      "text/plain": [
       "Low         19001\n",
       "Moderate        0\n",
       "High            0\n",
       "Name: price_category_userdef, dtype: int64"
      ]
     },
     "execution_count": 92,
     "metadata": {},
     "output_type": "execute_result"
    }
   ],
   "source": [
    "data_low['price_category_userdef'].value_counts()"
   ]
  },
  {
   "cell_type": "code",
   "execution_count": 93,
   "id": "1b419b72",
   "metadata": {},
   "outputs": [],
   "source": [
    "# My target column is place_of_origin."
   ]
  },
  {
   "cell_type": "code",
   "execution_count": 94,
   "id": "4fe135b7",
   "metadata": {},
   "outputs": [
    {
     "data": {
      "text/plain": [
       "others     11682\n",
       "Germany     7319\n",
       "Name: place_of_origin, dtype: int64"
      ]
     },
     "execution_count": 94,
     "metadata": {},
     "output_type": "execute_result"
    }
   ],
   "source": [
    "data_low['place_of_origin'].value_counts()"
   ]
  },
  {
   "cell_type": "code",
   "execution_count": 95,
   "id": "fce2088d",
   "metadata": {},
   "outputs": [],
   "source": [
    "#data_low['price_category_userdef']=data_low['price_category_userdef'].astype('object')"
   ]
  },
  {
   "cell_type": "code",
   "execution_count": 96,
   "id": "6b3c1be9",
   "metadata": {},
   "outputs": [
    {
     "data": {
      "text/plain": [
       "mileage                      int64\n",
       "fuel                        object\n",
       "gear                        object\n",
       "offer_type                  object\n",
       "price                        int64\n",
       "hp                         float64\n",
       "age_of_car                   int64\n",
       "place_of_origin             object\n",
       "price_category_userdef    category\n",
       "dtype: object"
      ]
     },
     "execution_count": 96,
     "metadata": {},
     "output_type": "execute_result"
    }
   ],
   "source": [
    "data_low.dtypes"
   ]
  },
  {
   "cell_type": "code",
   "execution_count": 97,
   "id": "5586eb4e",
   "metadata": {},
   "outputs": [],
   "source": [
    "# Target column is imbalanced so i need to use SMOTE."
   ]
  },
  {
   "cell_type": "code",
   "execution_count": 98,
   "id": "0ecff43b",
   "metadata": {},
   "outputs": [],
   "source": [
    "from imblearn.over_sampling import SMOTE"
   ]
  },
  {
   "cell_type": "code",
   "execution_count": 99,
   "id": "95804897",
   "metadata": {},
   "outputs": [],
   "source": [
    "X = data_low.drop('place_of_origin',axis = 1)\n",
    "y = data_low['place_of_origin']"
   ]
  },
  {
   "cell_type": "code",
   "execution_count": 100,
   "id": "3ee2895c",
   "metadata": {},
   "outputs": [],
   "source": [
    "X_train, X_test, y_train, y_test = train_test_split(X, y)"
   ]
  },
  {
   "cell_type": "code",
   "execution_count": null,
   "id": "be8d8236",
   "metadata": {},
   "outputs": [],
   "source": []
  },
  {
   "cell_type": "code",
   "execution_count": 101,
   "id": "142f8356",
   "metadata": {},
   "outputs": [],
   "source": [
    "X_train_num=X_train.select_dtypes(np.number)\n",
    "X_train_cat=X_train.select_dtypes(object)\n",
    "\n",
    "X_test_num=X_test.select_dtypes(np.number)\n",
    "X_test_cat=X_test.select_dtypes(object)"
   ]
  },
  {
   "cell_type": "code",
   "execution_count": 102,
   "id": "4083c998",
   "metadata": {},
   "outputs": [
    {
     "data": {
      "text/html": [
       "<div>\n",
       "<style scoped>\n",
       "    .dataframe tbody tr th:only-of-type {\n",
       "        vertical-align: middle;\n",
       "    }\n",
       "\n",
       "    .dataframe tbody tr th {\n",
       "        vertical-align: top;\n",
       "    }\n",
       "\n",
       "    .dataframe thead th {\n",
       "        text-align: right;\n",
       "    }\n",
       "</style>\n",
       "<table border=\"1\" class=\"dataframe\">\n",
       "  <thead>\n",
       "    <tr style=\"text-align: right;\">\n",
       "      <th></th>\n",
       "      <th>fuel</th>\n",
       "      <th>gear</th>\n",
       "      <th>offer_type</th>\n",
       "    </tr>\n",
       "  </thead>\n",
       "  <tbody>\n",
       "    <tr>\n",
       "      <th>31277</th>\n",
       "      <td>Diesel</td>\n",
       "      <td>Automatic</td>\n",
       "      <td>Used</td>\n",
       "    </tr>\n",
       "    <tr>\n",
       "      <th>3160</th>\n",
       "      <td>Diesel</td>\n",
       "      <td>Manual</td>\n",
       "      <td>Used</td>\n",
       "    </tr>\n",
       "    <tr>\n",
       "      <th>6132</th>\n",
       "      <td>Diesel</td>\n",
       "      <td>Manual</td>\n",
       "      <td>Used</td>\n",
       "    </tr>\n",
       "    <tr>\n",
       "      <th>1441</th>\n",
       "      <td>Diesel</td>\n",
       "      <td>Manual</td>\n",
       "      <td>Used</td>\n",
       "    </tr>\n",
       "    <tr>\n",
       "      <th>17724</th>\n",
       "      <td>Gasoline</td>\n",
       "      <td>Manual</td>\n",
       "      <td>Used</td>\n",
       "    </tr>\n",
       "  </tbody>\n",
       "</table>\n",
       "</div>"
      ],
      "text/plain": [
       "           fuel       gear offer_type\n",
       "31277    Diesel  Automatic       Used\n",
       "3160     Diesel     Manual       Used\n",
       "6132     Diesel     Manual       Used\n",
       "1441     Diesel     Manual       Used\n",
       "17724  Gasoline     Manual       Used"
      ]
     },
     "execution_count": 102,
     "metadata": {},
     "output_type": "execute_result"
    }
   ],
   "source": [
    "X_train_cat.head()"
   ]
  },
  {
   "cell_type": "code",
   "execution_count": 103,
   "id": "54db860e",
   "metadata": {},
   "outputs": [
    {
     "data": {
      "text/html": [
       "<div>\n",
       "<style scoped>\n",
       "    .dataframe tbody tr th:only-of-type {\n",
       "        vertical-align: middle;\n",
       "    }\n",
       "\n",
       "    .dataframe tbody tr th {\n",
       "        vertical-align: top;\n",
       "    }\n",
       "\n",
       "    .dataframe thead th {\n",
       "        text-align: right;\n",
       "    }\n",
       "</style>\n",
       "<table border=\"1\" class=\"dataframe\">\n",
       "  <thead>\n",
       "    <tr style=\"text-align: right;\">\n",
       "      <th></th>\n",
       "      <th>mileage</th>\n",
       "      <th>price</th>\n",
       "      <th>hp</th>\n",
       "      <th>age_of_car</th>\n",
       "    </tr>\n",
       "  </thead>\n",
       "  <tbody>\n",
       "    <tr>\n",
       "      <th>31277</th>\n",
       "      <td>199485</td>\n",
       "      <td>6500</td>\n",
       "      <td>170.0</td>\n",
       "      <td>10</td>\n",
       "    </tr>\n",
       "    <tr>\n",
       "      <th>3160</th>\n",
       "      <td>121000</td>\n",
       "      <td>9999</td>\n",
       "      <td>140.0</td>\n",
       "      <td>7</td>\n",
       "    </tr>\n",
       "    <tr>\n",
       "      <th>6132</th>\n",
       "      <td>185500</td>\n",
       "      <td>8490</td>\n",
       "      <td>110.0</td>\n",
       "      <td>6</td>\n",
       "    </tr>\n",
       "    <tr>\n",
       "      <th>1441</th>\n",
       "      <td>120000</td>\n",
       "      <td>7490</td>\n",
       "      <td>110.0</td>\n",
       "      <td>6</td>\n",
       "    </tr>\n",
       "    <tr>\n",
       "      <th>17724</th>\n",
       "      <td>49900</td>\n",
       "      <td>6690</td>\n",
       "      <td>60.0</td>\n",
       "      <td>4</td>\n",
       "    </tr>\n",
       "  </tbody>\n",
       "</table>\n",
       "</div>"
      ],
      "text/plain": [
       "       mileage  price     hp  age_of_car\n",
       "31277   199485   6500  170.0          10\n",
       "3160    121000   9999  140.0           7\n",
       "6132    185500   8490  110.0           6\n",
       "1441    120000   7490  110.0           6\n",
       "17724    49900   6690   60.0           4"
      ]
     },
     "execution_count": 103,
     "metadata": {},
     "output_type": "execute_result"
    }
   ],
   "source": [
    "X_train_num.head()"
   ]
  },
  {
   "cell_type": "code",
   "execution_count": 104,
   "id": "eb46e490",
   "metadata": {},
   "outputs": [],
   "source": [
    "transformer = MinMaxScaler().fit(X_train_num)\n",
    "X_train_scaled = pd.DataFrame(transformer.transform(X_train_num),columns=X_train_num.columns)\n",
    "X_test_scaled = pd.DataFrame(transformer.transform(X_test_num),columns=X_test_num.columns)\n"
   ]
  },
  {
   "cell_type": "code",
   "execution_count": 105,
   "id": "31bf9164",
   "metadata": {},
   "outputs": [
    {
     "data": {
      "text/html": [
       "<div>\n",
       "<style scoped>\n",
       "    .dataframe tbody tr th:only-of-type {\n",
       "        vertical-align: middle;\n",
       "    }\n",
       "\n",
       "    .dataframe tbody tr th {\n",
       "        vertical-align: top;\n",
       "    }\n",
       "\n",
       "    .dataframe thead th {\n",
       "        text-align: right;\n",
       "    }\n",
       "</style>\n",
       "<table border=\"1\" class=\"dataframe\">\n",
       "  <thead>\n",
       "    <tr style=\"text-align: right;\">\n",
       "      <th></th>\n",
       "      <th>mileage</th>\n",
       "      <th>price</th>\n",
       "      <th>hp</th>\n",
       "      <th>age_of_car</th>\n",
       "    </tr>\n",
       "  </thead>\n",
       "  <tbody>\n",
       "    <tr>\n",
       "      <th>0</th>\n",
       "      <td>0.774690</td>\n",
       "      <td>0.477378</td>\n",
       "      <td>0.521605</td>\n",
       "      <td>1.0</td>\n",
       "    </tr>\n",
       "    <tr>\n",
       "      <th>1</th>\n",
       "      <td>0.469882</td>\n",
       "      <td>0.999851</td>\n",
       "      <td>0.429012</td>\n",
       "      <td>0.7</td>\n",
       "    </tr>\n",
       "    <tr>\n",
       "      <th>2</th>\n",
       "      <td>0.720377</td>\n",
       "      <td>0.774526</td>\n",
       "      <td>0.336420</td>\n",
       "      <td>0.6</td>\n",
       "    </tr>\n",
       "    <tr>\n",
       "      <th>3</th>\n",
       "      <td>0.465999</td>\n",
       "      <td>0.625205</td>\n",
       "      <td>0.336420</td>\n",
       "      <td>0.6</td>\n",
       "    </tr>\n",
       "    <tr>\n",
       "      <th>4</th>\n",
       "      <td>0.193755</td>\n",
       "      <td>0.505749</td>\n",
       "      <td>0.182099</td>\n",
       "      <td>0.4</td>\n",
       "    </tr>\n",
       "  </tbody>\n",
       "</table>\n",
       "</div>"
      ],
      "text/plain": [
       "    mileage     price        hp  age_of_car\n",
       "0  0.774690  0.477378  0.521605         1.0\n",
       "1  0.469882  0.999851  0.429012         0.7\n",
       "2  0.720377  0.774526  0.336420         0.6\n",
       "3  0.465999  0.625205  0.336420         0.6\n",
       "4  0.193755  0.505749  0.182099         0.4"
      ]
     },
     "execution_count": 105,
     "metadata": {},
     "output_type": "execute_result"
    }
   ],
   "source": [
    "X_train_scaled.head()"
   ]
  },
  {
   "cell_type": "code",
   "execution_count": 106,
   "id": "c9248ec4",
   "metadata": {},
   "outputs": [
    {
     "name": "stderr",
     "output_type": "stream",
     "text": [
      "D:\\anaconda\\lib\\site-packages\\sklearn\\utils\\deprecation.py:87: FutureWarning: Function get_feature_names is deprecated; get_feature_names is deprecated in 1.0 and will be removed in 1.2. Please use get_feature_names_out instead.\n",
      "  warnings.warn(msg, category=FutureWarning)\n",
      "D:\\anaconda\\lib\\site-packages\\sklearn\\utils\\deprecation.py:87: FutureWarning: Function get_feature_names is deprecated; get_feature_names is deprecated in 1.0 and will be removed in 1.2. Please use get_feature_names_out instead.\n",
      "  warnings.warn(msg, category=FutureWarning)\n"
     ]
    }
   ],
   "source": [
    "encoder = OneHotEncoder(drop='first').fit(X_train_cat)\n",
    "cols = encoder.get_feature_names(input_features=X_train_cat.columns)\n",
    "X_train_cat_scaled = pd.DataFrame(encoder.transform(X_train_cat).toarray(), columns=cols)\n",
    "X_train_cat_scaled.head()\n",
    "\n",
    "\n",
    "cols1 = encoder.get_feature_names(input_features=X_test_cat.columns)\n",
    "X_test_cat_scaled = pd.DataFrame(encoder.transform(X_test_cat).toarray(), columns=cols1)\n"
   ]
  },
  {
   "cell_type": "code",
   "execution_count": 107,
   "id": "15ff0066",
   "metadata": {},
   "outputs": [],
   "source": [
    "X_train_transformed=pd.concat([X_train_cat_scaled,X_train_scaled],axis=1)\n",
    "X_test_transformed=pd.concat([X_test_cat_scaled,X_test_scaled],axis=1)"
   ]
  },
  {
   "cell_type": "code",
   "execution_count": 108,
   "id": "f3c6c9c0",
   "metadata": {},
   "outputs": [],
   "source": [
    "y_train = y_train.reset_index(drop=True) \n",
    "y_test = y_test.reset_index(drop=True) "
   ]
  },
  {
   "cell_type": "code",
   "execution_count": 109,
   "id": "c76b41dd",
   "metadata": {},
   "outputs": [
    {
     "data": {
      "text/plain": [
       "others     8756\n",
       "Germany    5494\n",
       "Name: place_of_origin, dtype: int64"
      ]
     },
     "execution_count": 109,
     "metadata": {},
     "output_type": "execute_result"
    }
   ],
   "source": [
    "y_train.value_counts()"
   ]
  },
  {
   "cell_type": "code",
   "execution_count": 110,
   "id": "1233e632",
   "metadata": {},
   "outputs": [],
   "source": [
    "sm = SMOTE(random_state=100, k_neighbors=3)\n",
    "X_train_SMOTE,y_train_SMOTE = sm.fit_resample(X_train_transformed,y_train)"
   ]
  },
  {
   "cell_type": "code",
   "execution_count": 111,
   "id": "06d72c4e",
   "metadata": {},
   "outputs": [
    {
     "data": {
      "text/plain": [
       "Germany    8756\n",
       "others     8756\n",
       "Name: place_of_origin, dtype: int64"
      ]
     },
     "execution_count": 111,
     "metadata": {},
     "output_type": "execute_result"
    }
   ],
   "source": [
    "y_train_SMOTE.value_counts()"
   ]
  },
  {
   "cell_type": "code",
   "execution_count": 112,
   "id": "5b50c16a",
   "metadata": {},
   "outputs": [
    {
     "name": "stdout",
     "output_type": "stream",
     "text": [
      "precision:  0.6992046276211136\n",
      "recall:  0.6609706083390294\n",
      "f1:  0.6795502459592412\n"
     ]
    }
   ],
   "source": [
    "from sklearn.linear_model import LogisticRegression\n",
    "from sklearn.metrics import precision_score\n",
    "from sklearn.metrics import recall_score\n",
    "from sklearn.metrics import f1_score\n",
    "\n",
    "LR = LogisticRegression(random_state=0, solver='lbfgs')\n",
    "LR.fit(X_train_SMOTE, y_train_SMOTE)\n",
    "pred = LR.predict(X_test_transformed)\n",
    "\n",
    "print(\"precision: \",precision_score(y_test,pred,pos_label='others'))\n",
    "print(\"recall: \",recall_score(y_test,pred,pos_label='others'))\n",
    "print(\"f1: \",f1_score(y_test,pred,pos_label='others'))"
   ]
  },
  {
   "cell_type": "code",
   "execution_count": 113,
   "id": "8ffd7b20",
   "metadata": {},
   "outputs": [],
   "source": [
    "# Hypothesis testing"
   ]
  },
  {
   "cell_type": "code",
   "execution_count": 114,
   "id": "06cd1ea4",
   "metadata": {},
   "outputs": [],
   "source": [
    "# alpha=0.05\n",
    "# H0: mean hp of german cars is lower than the others when the price is lower than 10000\n",
    "# H1: mean hp of german cars is higher than the others when the price is lower than 10000\n",
    "from scipy import stats\n",
    "hp_german=data_low[(data_low['place_of_origin']=='Germany')]['hp']\n",
    "hp_others=data_low[(data_low['place_of_origin']=='others')]['hp']"
   ]
  },
  {
   "cell_type": "code",
   "execution_count": 115,
   "id": "8453967f",
   "metadata": {},
   "outputs": [
    {
     "data": {
      "text/html": [
       "<div>\n",
       "<style scoped>\n",
       "    .dataframe tbody tr th:only-of-type {\n",
       "        vertical-align: middle;\n",
       "    }\n",
       "\n",
       "    .dataframe tbody tr th {\n",
       "        vertical-align: top;\n",
       "    }\n",
       "\n",
       "    .dataframe thead th {\n",
       "        text-align: right;\n",
       "    }\n",
       "</style>\n",
       "<table border=\"1\" class=\"dataframe\">\n",
       "  <thead>\n",
       "    <tr style=\"text-align: right;\">\n",
       "      <th></th>\n",
       "      <th>mileage</th>\n",
       "      <th>fuel</th>\n",
       "      <th>gear</th>\n",
       "      <th>offer_type</th>\n",
       "      <th>price</th>\n",
       "      <th>hp</th>\n",
       "      <th>age_of_car</th>\n",
       "      <th>place_of_origin</th>\n",
       "      <th>price_category_userdef</th>\n",
       "    </tr>\n",
       "  </thead>\n",
       "  <tbody>\n",
       "    <tr>\n",
       "      <th>0</th>\n",
       "      <td>235000</td>\n",
       "      <td>Diesel</td>\n",
       "      <td>Manual</td>\n",
       "      <td>Used</td>\n",
       "      <td>6800</td>\n",
       "      <td>116.0</td>\n",
       "      <td>10</td>\n",
       "      <td>Germany</td>\n",
       "      <td>Low</td>\n",
       "    </tr>\n",
       "    <tr>\n",
       "      <th>1</th>\n",
       "      <td>92800</td>\n",
       "      <td>Gasoline</td>\n",
       "      <td>Manual</td>\n",
       "      <td>Used</td>\n",
       "      <td>6877</td>\n",
       "      <td>122.0</td>\n",
       "      <td>10</td>\n",
       "      <td>Germany</td>\n",
       "      <td>Low</td>\n",
       "    </tr>\n",
       "    <tr>\n",
       "      <th>2</th>\n",
       "      <td>149300</td>\n",
       "      <td>Gasoline</td>\n",
       "      <td>Manual</td>\n",
       "      <td>Used</td>\n",
       "      <td>6900</td>\n",
       "      <td>160.0</td>\n",
       "      <td>10</td>\n",
       "      <td>others</td>\n",
       "      <td>Low</td>\n",
       "    </tr>\n",
       "    <tr>\n",
       "      <th>3</th>\n",
       "      <td>96200</td>\n",
       "      <td>Gasoline</td>\n",
       "      <td>Manual</td>\n",
       "      <td>Used</td>\n",
       "      <td>6950</td>\n",
       "      <td>110.0</td>\n",
       "      <td>10</td>\n",
       "      <td>others</td>\n",
       "      <td>Low</td>\n",
       "    </tr>\n",
       "    <tr>\n",
       "      <th>4</th>\n",
       "      <td>156000</td>\n",
       "      <td>Gasoline</td>\n",
       "      <td>Manual</td>\n",
       "      <td>Used</td>\n",
       "      <td>6950</td>\n",
       "      <td>156.0</td>\n",
       "      <td>10</td>\n",
       "      <td>others</td>\n",
       "      <td>Low</td>\n",
       "    </tr>\n",
       "  </tbody>\n",
       "</table>\n",
       "</div>"
      ],
      "text/plain": [
       "   mileage      fuel    gear offer_type  price     hp  age_of_car  \\\n",
       "0   235000    Diesel  Manual       Used   6800  116.0          10   \n",
       "1    92800  Gasoline  Manual       Used   6877  122.0          10   \n",
       "2   149300  Gasoline  Manual       Used   6900  160.0          10   \n",
       "3    96200  Gasoline  Manual       Used   6950  110.0          10   \n",
       "4   156000  Gasoline  Manual       Used   6950  156.0          10   \n",
       "\n",
       "  place_of_origin price_category_userdef  \n",
       "0         Germany                    Low  \n",
       "1         Germany                    Low  \n",
       "2          others                    Low  \n",
       "3          others                    Low  \n",
       "4          others                    Low  "
      ]
     },
     "execution_count": 115,
     "metadata": {},
     "output_type": "execute_result"
    }
   ],
   "source": [
    "data_low.head()"
   ]
  },
  {
   "cell_type": "code",
   "execution_count": 116,
   "id": "aa8a3f96",
   "metadata": {},
   "outputs": [],
   "source": [
    "tstat, pval = stats.ttest_ind(hp_german, hp_others)"
   ]
  },
  {
   "cell_type": "code",
   "execution_count": 117,
   "id": "525bf35a",
   "metadata": {},
   "outputs": [
    {
     "name": "stdout",
     "output_type": "stream",
     "text": [
      "18.727065066214138\n"
     ]
    },
    {
     "data": {
      "text/plain": [
       "1.4871672848800772e-77"
      ]
     },
     "execution_count": 117,
     "metadata": {},
     "output_type": "execute_result"
    }
   ],
   "source": [
    "print(tstat)\n",
    "pval"
   ]
  },
  {
   "cell_type": "code",
   "execution_count": 118,
   "id": "9495deaf",
   "metadata": {},
   "outputs": [],
   "source": [
    "#pval<0.05 that means H0  can be rejected. The mean hp of german cars is higher than the others."
   ]
  },
  {
   "cell_type": "code",
   "execution_count": 119,
   "id": "0fef5bab",
   "metadata": {},
   "outputs": [],
   "source": [
    "# H0: mean price of german cars is lower than the others when the price is lower than 10000\n",
    "# H1: mean price of german cars is higher than the others when the price is lower than 10000"
   ]
  },
  {
   "cell_type": "code",
   "execution_count": 120,
   "id": "9d526fd0",
   "metadata": {},
   "outputs": [],
   "source": [
    "price_german=data_low[(data_low['place_of_origin']=='Germany')]['price']\n",
    "price_others=data_low[(data_low['place_of_origin']=='others')]['price']\n"
   ]
  },
  {
   "cell_type": "code",
   "execution_count": 121,
   "id": "f09a9f6b",
   "metadata": {},
   "outputs": [
    {
     "name": "stdout",
     "output_type": "stream",
     "text": [
      "18.119722233364794 9.130361568951072e-73\n"
     ]
    }
   ],
   "source": [
    "tstat, pval = stats.ttest_ind(price_german, price_others)\n",
    "print(tstat,pval)"
   ]
  },
  {
   "cell_type": "code",
   "execution_count": 122,
   "id": "853dcfac",
   "metadata": {},
   "outputs": [],
   "source": [
    "# p<0.05 means the price of german cars is a little bit higher than the others."
   ]
  },
  {
   "cell_type": "code",
   "execution_count": 123,
   "id": "70f3473a",
   "metadata": {},
   "outputs": [],
   "source": [
    "# Consider the case where the price is between 10000 and 20000"
   ]
  },
  {
   "cell_type": "code",
   "execution_count": 124,
   "id": "697b0e8a",
   "metadata": {},
   "outputs": [],
   "source": [
    "data_moderate=data"
   ]
  },
  {
   "cell_type": "code",
   "execution_count": 125,
   "id": "0b609577",
   "metadata": {},
   "outputs": [],
   "source": [
    "data_moderate=data_moderate[(data_moderate['price_category_userdef'].isin(['Moderate']))]"
   ]
  },
  {
   "cell_type": "code",
   "execution_count": 126,
   "id": "e4a58fc5",
   "metadata": {},
   "outputs": [
    {
     "data": {
      "text/plain": [
       "Moderate    13486\n",
       "Low             0\n",
       "High            0\n",
       "Name: price_category_userdef, dtype: int64"
      ]
     },
     "execution_count": 126,
     "metadata": {},
     "output_type": "execute_result"
    }
   ],
   "source": [
    "data_moderate['price_category_userdef'].value_counts()"
   ]
  },
  {
   "cell_type": "code",
   "execution_count": 127,
   "id": "6c274c55",
   "metadata": {},
   "outputs": [],
   "source": [
    "# alpha=0.05\n",
    "# H0: mean hp of german cars is lower than the others when the price is between 10000 and 20000\n",
    "# H1: mean hp of german cars is higher than the others when the price is between 10000 and 20000\n",
    "hp_german=data_moderate[(data_moderate['place_of_origin']=='Germany')]['hp']\n",
    "hp_others=data_moderate[(data_moderate['place_of_origin']=='others')]['hp']"
   ]
  },
  {
   "cell_type": "code",
   "execution_count": null,
   "id": "d841226a",
   "metadata": {},
   "outputs": [],
   "source": []
  },
  {
   "cell_type": "code",
   "execution_count": 128,
   "id": "78c090c5",
   "metadata": {},
   "outputs": [
    {
     "name": "stdout",
     "output_type": "stream",
     "text": [
      "29.632264697300812\n"
     ]
    },
    {
     "data": {
      "text/plain": [
       "5.29468256039115e-187"
      ]
     },
     "execution_count": 128,
     "metadata": {},
     "output_type": "execute_result"
    }
   ],
   "source": [
    "tstat, pval = stats.ttest_ind(hp_german, hp_others)\n",
    "print(tstat)\n",
    "pval"
   ]
  },
  {
   "cell_type": "code",
   "execution_count": 129,
   "id": "54608aba",
   "metadata": {},
   "outputs": [],
   "source": [
    "#pval<0.05 means mean hp of german cars is higher than the others."
   ]
  },
  {
   "cell_type": "code",
   "execution_count": 130,
   "id": "2875d313",
   "metadata": {},
   "outputs": [
    {
     "name": "stdout",
     "output_type": "stream",
     "text": [
      "-1.0062614293121375 0.31430788590533776\n"
     ]
    }
   ],
   "source": [
    "# H0: mean price of german cars is lower than the others when the price is between 10000 and 20000\n",
    "# H1: mean price of german cars is higher than the others when the price is between 10000 and 20000\n",
    "price_german=data_moderate[(data_moderate['place_of_origin']=='Germany')]['price']\n",
    "price_others=data_moderate[(data_moderate['place_of_origin']=='others')]['price']\n",
    "tstat, pval = stats.ttest_ind(price_german, price_others)\n",
    "print(tstat,pval)"
   ]
  },
  {
   "cell_type": "code",
   "execution_count": 131,
   "id": "fe93d8f6",
   "metadata": {},
   "outputs": [],
   "source": [
    "#pval>0.05 means that the price of german cars is lower than the others."
   ]
  },
  {
   "cell_type": "code",
   "execution_count": 132,
   "id": "d4ef7caf",
   "metadata": {},
   "outputs": [],
   "source": [
    "# Consider the case where the price is above 20000"
   ]
  },
  {
   "cell_type": "code",
   "execution_count": 133,
   "id": "1c8dd3c0",
   "metadata": {},
   "outputs": [],
   "source": [
    "data_high=data"
   ]
  },
  {
   "cell_type": "code",
   "execution_count": 134,
   "id": "1369fa0a",
   "metadata": {},
   "outputs": [],
   "source": [
    "data_high=data_high[(data_high['price_category_userdef'].isin(['High']))]"
   ]
  },
  {
   "cell_type": "code",
   "execution_count": 135,
   "id": "c03b59d7",
   "metadata": {},
   "outputs": [
    {
     "name": "stdout",
     "output_type": "stream",
     "text": [
      "16.456532691765595\n"
     ]
    },
    {
     "data": {
      "text/plain": [
       "4.8635765969302816e-60"
      ]
     },
     "execution_count": 135,
     "metadata": {},
     "output_type": "execute_result"
    }
   ],
   "source": [
    "# alpha=0.05\n",
    "# H0: mean hp of german cars is lower than the others when the price above 20000\n",
    "# H1: mean hp of german cars is higher than the others when the price is above 20000\n",
    "hp_german=data_high[(data_high['place_of_origin']=='Germany')]['hp']\n",
    "hp_others=data_high[(data_high['place_of_origin']=='others')]['hp']\n",
    "tstat, pval = stats.ttest_ind(hp_german, hp_others)\n",
    "print(tstat)\n",
    "pval"
   ]
  },
  {
   "cell_type": "code",
   "execution_count": 136,
   "id": "d3bafa25",
   "metadata": {},
   "outputs": [
    {
     "name": "stdout",
     "output_type": "stream",
     "text": [
      "16.76732377441806 3.153686495017977e-62\n"
     ]
    }
   ],
   "source": [
    "# H0: mean price of german cars is lower than the others when the price is above 20000\n",
    "# H1: mean price of german cars is higher than the others when the price is above 20000\n",
    "price_german=data_high[(data_high['place_of_origin']=='Germany')]['price']\n",
    "price_others=data_high[(data_high['place_of_origin']=='others')]['price']\n",
    "tstat, pval = stats.ttest_ind(price_german, price_others)\n",
    "print(tstat,pval)"
   ]
  },
  {
   "cell_type": "code",
   "execution_count": 137,
   "id": "7229184c",
   "metadata": {},
   "outputs": [],
   "source": [
    "# p values of both hypothesis are lower than 0.05 that means the mean hp of german cars is higher than the others meanwhile the price is higher. "
   ]
  },
  {
   "cell_type": "code",
   "execution_count": 143,
   "id": "38556c3c",
   "metadata": {},
   "outputs": [
    {
     "name": "stdout",
     "output_type": "stream",
     "text": [
      "30.70433924723036\n"
     ]
    },
    {
     "data": {
      "text/plain": [
       "9.013742451832508e-205"
      ]
     },
     "execution_count": 143,
     "metadata": {},
     "output_type": "execute_result"
    }
   ],
   "source": [
    "# alpha=0.05\n",
    "# H0: mean mileage of german cars is lower than the others\n",
    "# H1: mean mileage of german cars is higher than the others\n",
    "mil_german=data[(data['place_of_origin']=='Germany')]['mileage']\n",
    "mil_others=data[(data['place_of_origin']=='others')]['mileage']\n",
    "tstat, pval = stats.ttest_ind(mil_german, mil_others)\n",
    "print(tstat)\n",
    "pval"
   ]
  },
  {
   "cell_type": "code",
   "execution_count": 140,
   "id": "6dc9dcf4",
   "metadata": {},
   "outputs": [
    {
     "data": {
      "text/plain": [
       "(19464,)"
      ]
     },
     "execution_count": 140,
     "metadata": {},
     "output_type": "execute_result"
    }
   ],
   "source": [
    "# p value is lower than 0.05 which mean mileage of german cars is higher than the others."
   ]
  },
  {
   "cell_type": "code",
   "execution_count": 144,
   "id": "92b9ea01",
   "metadata": {},
   "outputs": [
    {
     "name": "stdout",
     "output_type": "stream",
     "text": [
      "14.070323864281226\n"
     ]
    },
    {
     "data": {
      "text/plain": [
       "7.302604723535131e-45"
      ]
     },
     "execution_count": 144,
     "metadata": {},
     "output_type": "execute_result"
    }
   ],
   "source": [
    "# alpha=0.05\n",
    "# H0: mean age of german cars is lower than the others\n",
    "# H1: mean age of german cars is higher than the others\n",
    "age_german=data[(data['place_of_origin']=='Germany')]['age_of_car']\n",
    "age_others=data[(data['place_of_origin']=='others')]['age_of_car']\n",
    "tstat, pval = stats.ttest_ind(age_german,age_others)\n",
    "print(tstat)\n",
    "pval"
   ]
  },
  {
   "cell_type": "code",
   "execution_count": 142,
   "id": "7a241ecd",
   "metadata": {},
   "outputs": [
    {
     "data": {
      "text/plain": [
       "0     10\n",
       "1     10\n",
       "7     10\n",
       "10    10\n",
       "11    10\n",
       "Name: age_of_car, dtype: int64"
      ]
     },
     "execution_count": 142,
     "metadata": {},
     "output_type": "execute_result"
    }
   ],
   "source": [
    "# p value is lower than 0.05 that means mean age of german cars is higher than the others."
   ]
  },
  {
   "cell_type": "code",
   "execution_count": null,
   "id": "23198436",
   "metadata": {},
   "outputs": [],
   "source": [
    "# Conclusion:\n",
    "# German cars is cost-effective and value-maintaining."
   ]
  }
 ],
 "metadata": {
  "kernelspec": {
   "display_name": "Python 3 (ipykernel)",
   "language": "python",
   "name": "python3"
  },
  "language_info": {
   "codemirror_mode": {
    "name": "ipython",
    "version": 3
   },
   "file_extension": ".py",
   "mimetype": "text/x-python",
   "name": "python",
   "nbconvert_exporter": "python",
   "pygments_lexer": "ipython3",
   "version": "3.9.12"
  }
 },
 "nbformat": 4,
 "nbformat_minor": 5
}
